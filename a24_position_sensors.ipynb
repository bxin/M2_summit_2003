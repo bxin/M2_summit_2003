{
 "cells": [
  {
   "cell_type": "markdown",
   "metadata": {},
   "source": [
    "### We determine how to convert displacement sensor readings into M2 position\n",
    "The data used here is the same as in a19_position_repeatability.ipynb"
   ]
  },
  {
   "cell_type": "code",
   "execution_count": 1,
   "metadata": {},
   "outputs": [],
   "source": [
    "from openpyxl import load_workbook\n",
    "\n",
    "from astropy.time import Time\n",
    "from datetime import timedelta, datetime\n",
    "from lsst_efd_client import EfdClient\n",
    "\n",
    "import matplotlib.pyplot as plt\n",
    "import scipy.io\n",
    "import numpy as np\n",
    "import pandas as pd\n",
    "\n",
    "from pandas.plotting import register_matplotlib_converters\n",
    "register_matplotlib_converters()"
   ]
  },
  {
   "cell_type": "markdown",
   "metadata": {},
   "source": [
    "### Multiple positions for +x\n",
    "The start and end time below are obtained by looking at the corresponding plots in a19_position_repeatability.ipynb\n",
    "* we want only one peak in position, which makes it easier to tell which sensor is making biggest move.\n",
    "* we want to have the start time or end time to be at zero position. This makes it easy to subtract sensor offset.\n",
    "* we also need to make sure the time period (start, end) falls into one binary file. otherwise we have to read into two files and join the arrays."
   ]
  },
  {
   "cell_type": "code",
   "execution_count": 2,
   "metadata": {},
   "outputs": [],
   "source": [
    "start = Time('2020-03-04T18:04:00') #this is UTC # we went to x=-500um and back\n",
    "end = Time('2020-03-04T18:12:00') "
   ]
  },
  {
   "cell_type": "code",
   "execution_count": 3,
   "metadata": {},
   "outputs": [],
   "source": [
    "client = EfdClient('summit_efd')\n",
    "csc_index = 1"
   ]
  },
  {
   "cell_type": "code",
   "execution_count": 4,
   "metadata": {},
   "outputs": [
    {
     "data": {
      "text/html": [
       "<div>\n",
       "<style scoped>\n",
       "    .dataframe tbody tr th:only-of-type {\n",
       "        vertical-align: middle;\n",
       "    }\n",
       "\n",
       "    .dataframe tbody tr th {\n",
       "        vertical-align: top;\n",
       "    }\n",
       "\n",
       "    .dataframe thead th {\n",
       "        text-align: right;\n",
       "    }\n",
       "</style>\n",
       "<table border=\"1\" class=\"dataframe\">\n",
       "  <thead>\n",
       "    <tr style=\"text-align: right;\">\n",
       "      <th></th>\n",
       "      <th>piston</th>\n",
       "      <th>private_host</th>\n",
       "      <th>private_kafkaStamp</th>\n",
       "      <th>private_origin</th>\n",
       "      <th>private_rcvStamp</th>\n",
       "      <th>private_revCode</th>\n",
       "      <th>private_seqNum</th>\n",
       "      <th>private_sndStamp</th>\n",
       "      <th>thetaZPosition</th>\n",
       "      <th>xPosition</th>\n",
       "      <th>xTilt</th>\n",
       "      <th>yPosition</th>\n",
       "      <th>yTilt</th>\n",
       "    </tr>\n",
       "  </thead>\n",
       "  <tbody>\n",
       "    <tr>\n",
       "      <th>2020-03-04 18:04:00.014000+00:00</th>\n",
       "      <td>-0.002429</td>\n",
       "      <td>1</td>\n",
       "      <td>1.583345e+09</td>\n",
       "      <td>125069</td>\n",
       "      <td>1.583345e+09</td>\n",
       "      <td>c3c6bc7d</td>\n",
       "      <td>2121853</td>\n",
       "      <td>1.583345e+09</td>\n",
       "      <td>2.577755e-08</td>\n",
       "      <td>0.246313</td>\n",
       "      <td>-6.707311e-12</td>\n",
       "      <td>-0.087509</td>\n",
       "      <td>1.766128e-09</td>\n",
       "    </tr>\n",
       "    <tr>\n",
       "      <th>2020-03-04 18:04:00.063000+00:00</th>\n",
       "      <td>-0.002429</td>\n",
       "      <td>1</td>\n",
       "      <td>1.583345e+09</td>\n",
       "      <td>125069</td>\n",
       "      <td>1.583345e+09</td>\n",
       "      <td>c3c6bc7d</td>\n",
       "      <td>2121862</td>\n",
       "      <td>1.583345e+09</td>\n",
       "      <td>2.577755e-08</td>\n",
       "      <td>0.246313</td>\n",
       "      <td>-6.707311e-12</td>\n",
       "      <td>-0.087509</td>\n",
       "      <td>1.766128e-09</td>\n",
       "    </tr>\n",
       "    <tr>\n",
       "      <th>2020-03-04 18:04:00.113000+00:00</th>\n",
       "      <td>-0.002429</td>\n",
       "      <td>1</td>\n",
       "      <td>1.583345e+09</td>\n",
       "      <td>125069</td>\n",
       "      <td>1.583345e+09</td>\n",
       "      <td>c3c6bc7d</td>\n",
       "      <td>2121871</td>\n",
       "      <td>1.583345e+09</td>\n",
       "      <td>2.577755e-08</td>\n",
       "      <td>0.246313</td>\n",
       "      <td>-6.707311e-12</td>\n",
       "      <td>-0.087509</td>\n",
       "      <td>1.766128e-09</td>\n",
       "    </tr>\n",
       "    <tr>\n",
       "      <th>2020-03-04 18:04:00.164000+00:00</th>\n",
       "      <td>-0.002429</td>\n",
       "      <td>1</td>\n",
       "      <td>1.583345e+09</td>\n",
       "      <td>125069</td>\n",
       "      <td>1.583345e+09</td>\n",
       "      <td>c3c6bc7d</td>\n",
       "      <td>2121880</td>\n",
       "      <td>1.583345e+09</td>\n",
       "      <td>2.577755e-08</td>\n",
       "      <td>0.246313</td>\n",
       "      <td>-6.707311e-12</td>\n",
       "      <td>-0.087509</td>\n",
       "      <td>1.766128e-09</td>\n",
       "    </tr>\n",
       "    <tr>\n",
       "      <th>2020-03-04 18:04:00.214000+00:00</th>\n",
       "      <td>-0.002429</td>\n",
       "      <td>1</td>\n",
       "      <td>1.583345e+09</td>\n",
       "      <td>125069</td>\n",
       "      <td>1.583345e+09</td>\n",
       "      <td>c3c6bc7d</td>\n",
       "      <td>2121889</td>\n",
       "      <td>1.583345e+09</td>\n",
       "      <td>2.577755e-08</td>\n",
       "      <td>0.246313</td>\n",
       "      <td>-6.707311e-12</td>\n",
       "      <td>-0.087509</td>\n",
       "      <td>1.766128e-09</td>\n",
       "    </tr>\n",
       "  </tbody>\n",
       "</table>\n",
       "</div>"
      ],
      "text/plain": [
       "                                    piston  private_host  private_kafkaStamp  \\\n",
       "2020-03-04 18:04:00.014000+00:00 -0.002429             1        1.583345e+09   \n",
       "2020-03-04 18:04:00.063000+00:00 -0.002429             1        1.583345e+09   \n",
       "2020-03-04 18:04:00.113000+00:00 -0.002429             1        1.583345e+09   \n",
       "2020-03-04 18:04:00.164000+00:00 -0.002429             1        1.583345e+09   \n",
       "2020-03-04 18:04:00.214000+00:00 -0.002429             1        1.583345e+09   \n",
       "\n",
       "                                  private_origin  private_rcvStamp  \\\n",
       "2020-03-04 18:04:00.014000+00:00          125069      1.583345e+09   \n",
       "2020-03-04 18:04:00.063000+00:00          125069      1.583345e+09   \n",
       "2020-03-04 18:04:00.113000+00:00          125069      1.583345e+09   \n",
       "2020-03-04 18:04:00.164000+00:00          125069      1.583345e+09   \n",
       "2020-03-04 18:04:00.214000+00:00          125069      1.583345e+09   \n",
       "\n",
       "                                 private_revCode  private_seqNum  \\\n",
       "2020-03-04 18:04:00.014000+00:00        c3c6bc7d         2121853   \n",
       "2020-03-04 18:04:00.063000+00:00        c3c6bc7d         2121862   \n",
       "2020-03-04 18:04:00.113000+00:00        c3c6bc7d         2121871   \n",
       "2020-03-04 18:04:00.164000+00:00        c3c6bc7d         2121880   \n",
       "2020-03-04 18:04:00.214000+00:00        c3c6bc7d         2121889   \n",
       "\n",
       "                                  private_sndStamp  thetaZPosition  xPosition  \\\n",
       "2020-03-04 18:04:00.014000+00:00      1.583345e+09    2.577755e-08   0.246313   \n",
       "2020-03-04 18:04:00.063000+00:00      1.583345e+09    2.577755e-08   0.246313   \n",
       "2020-03-04 18:04:00.113000+00:00      1.583345e+09    2.577755e-08   0.246313   \n",
       "2020-03-04 18:04:00.164000+00:00      1.583345e+09    2.577755e-08   0.246313   \n",
       "2020-03-04 18:04:00.214000+00:00      1.583345e+09    2.577755e-08   0.246313   \n",
       "\n",
       "                                         xTilt  yPosition         yTilt  \n",
       "2020-03-04 18:04:00.014000+00:00 -6.707311e-12  -0.087509  1.766128e-09  \n",
       "2020-03-04 18:04:00.063000+00:00 -6.707311e-12  -0.087509  1.766128e-09  \n",
       "2020-03-04 18:04:00.113000+00:00 -6.707311e-12  -0.087509  1.766128e-09  \n",
       "2020-03-04 18:04:00.164000+00:00 -6.707311e-12  -0.087509  1.766128e-09  \n",
       "2020-03-04 18:04:00.214000+00:00 -6.707311e-12  -0.087509  1.766128e-09  "
      ]
     },
     "execution_count": 4,
     "metadata": {},
     "output_type": "execute_result"
    }
   ],
   "source": [
    "df = await client.select_time_series('lsst.sal.MTM2.mirrorPositionMeasured', '*', \n",
    "                                     (start-timedelta(seconds=37)).tai, (end-timedelta(seconds=37)).tai, csc_index)\n",
    "df.head()"
   ]
  },
  {
   "cell_type": "code",
   "execution_count": 5,
   "metadata": {},
   "outputs": [
    {
     "data": {
      "image/png": "[encoded data removed]",
      "text/plain": [
       "<Figure size 1080x216 with 1 Axes>"
      ]
     },
     "metadata": {
      "needs_background": "light"
     },
     "output_type": "display_data"
    }
   ],
   "source": [
    "fig, ax = plt.subplots(figsize=(15,3))\n",
    "plt.plot(pd.to_datetime(df.private_sndStamp, unit='s'), df.xPosition, label='x')\n",
    "plt.plot(pd.to_datetime(df.private_sndStamp, unit='s'), df.yPosition, label='y')\n",
    "plt.plot(pd.to_datetime(df.private_sndStamp, unit='s'), df.piston, label='z')\n",
    "plt.plot(pd.to_datetime(df.private_sndStamp, unit='s'), df.xTilt, label='xTilt')\n",
    "plt.plot(pd.to_datetime(df.private_sndStamp, unit='s'), df.yTilt, label='yTilt')\n",
    "plt.plot(pd.to_datetime(df.private_sndStamp, unit='s'), df.thetaZPosition, label = 'thetaZ')\n",
    "plt.title('mirror position: micron or radian')\n",
    "plt.legend(loc='lower left')\n",
    "plt.grid();"
   ]
  },
  {
   "cell_type": "markdown",
   "metadata": {},
   "source": [
    "### Are the disp sensor readings making sense?"
   ]
  },
  {
   "cell_type": "code",
   "execution_count": 6,
   "metadata": {},
   "outputs": [
    {
     "name": "stdout",
     "output_type": "stream",
     "text": [
      "('time_delta', 'comm_cntr', 'ilc_status', 'encoder', 'force', 'disp_sensors', 'temp_sensors', 'inclinometer', 'step_cmd', 'inc_cal', 'elevation_ts_i', 'elevation_ts_u', 'elevation_ang', 'el_status', 'disp_proc', 'disp_status', 'temp_proc', 'temp_status', 'hp', 'f_e', 'f_0', 'f_a', 'f_f', 'T_u', 'T_x', 'T_y', 'T_r', 'f_hp', 'f_cmd', 'f_error', 'f_delta', 'f_cmd_wrd', 'mtr_voltage', 'comm_voltage', 'mtr_current', 'comm_current', 'dig_input', 'dig_output', 'mtr_voltage_proc', 'comm_voltage_proc', 'mtr_current_proc', 'comm_current_proc', 'time', 'timestamp')\n"
     ]
    }
   ],
   "source": [
    "def insertHPColumns(a, nonHP):\n",
    "    [n1, n2] = a.shape\n",
    "    b = np.zeros((n1, n2+6))\n",
    "    ii = 0\n",
    "    for i in range(n2+6):\n",
    "        if i in nonHP:\n",
    "            b[:,i] = a[:,ii]\n",
    "            ii += 1\n",
    "        else:\n",
    "            b[:,i] = 0\n",
    "    return b\n",
    "\n",
    "def readBinary(matFile):\n",
    "    mat = scipy.io.loadmat(matFile)\n",
    "    print(mat['data'].dtype.names)\n",
    "    mdata = mat['data']  # variable in mat file\n",
    "    mdtype = mdata.dtype  # dtypes of structures are \"unsized objects\"\n",
    "    ndata = {n: mdata[n][0, 0] for n in mdtype.names}\n",
    "    nt = [datetime.strptime(ts[0][0], '%d-%b-%Y %H:%M:%S.%f') for ts in ndata['timestamp']]\n",
    "    nt = np.array([ti+ timedelta(hours=4, minutes=3, seconds=-5) for ti in nt]) #convert to utc, 4 hours ahead of Rochester\n",
    "    columns = [n for n, v in ndata.items()]\n",
    "    nonHP = [i for i in range(78) if i+1 not in ndata['hp'][0,:]]\n",
    "    nonHPa = [i for i in range(72) if i+1 not in ndata['hp'][0,:]] #a for axial actuator only\n",
    "    \n",
    "    ndata['f_hp'] = insertHPColumns(ndata['f_hp'], nonHP)\n",
    "    ndata['f_error'] = insertHPColumns(ndata['f_error'], nonHP)\n",
    "\n",
    "    return ndata, nt, columns, nonHP, nonHPa\n",
    "\n",
    "ndata, nt, columns, nonHP, nonHPa = readBinary('mat/0304/CellTelemetry_2020-03-04_161146_002.mat')"
   ]
  },
  {
   "cell_type": "code",
   "execution_count": 7,
   "metadata": {},
   "outputs": [
    {
     "data": {
      "text/plain": [
       "datetime.datetime(2020, 3, 4, 17, 51, 47, 411000)"
      ]
     },
     "execution_count": 7,
     "metadata": {},
     "output_type": "execute_result"
    }
   ],
   "source": [
    "#This starting time is now consistent with binary file name as well\n",
    "nt[0]"
   ]
  },
  {
   "cell_type": "code",
   "execution_count": 8,
   "metadata": {},
   "outputs": [],
   "source": [
    "# cut out only the time period we are interested in\n",
    "idx = (nt>start) & (nt<end)\n",
    "data = {}\n",
    "for n, v in ndata.items():\n",
    "    if len(v.shape)>1:\n",
    "        data[n] = v[idx,:]\n",
    "    else:\n",
    "        data[n] = v[idx]\n",
    "t = nt[idx]"
   ]
  },
  {
   "cell_type": "code",
   "execution_count": 9,
   "metadata": {},
   "outputs": [
    {
     "name": "stdout",
     "output_type": "stream",
     "text": [
      "0, max = 0.00, min = -0.25\n",
      "2, max = 0.25, min = 0.00\n",
      "4, max = 0.00, min = -0.25\n",
      "6, max = 0.00, min = -0.51\n",
      "8, max = 0.51, min = 0.00\n",
      "10, max = 0.28, min = -0.01\n"
     ]
    },
    {
     "data": {
      "image/png": "[encoded data removed]",
      "text/plain": [
       "<Figure size 1080x216 with 1 Axes>"
      ]
     },
     "metadata": {
      "needs_background": "light"
     },
     "output_type": "display_data"
    }
   ],
   "source": [
    "fig, ax = plt.subplots(figsize=(15,3))\n",
    "nsensor = data['disp_proc'].shape[1]\n",
    "for i in range(nsensor):\n",
    "    aa = data['disp_proc'][:,i]-data['disp_proc'][0,i]\n",
    "    plt.plot(t, aa,'-', label='%d'%i)\n",
    "    if max(abs(aa))>0.1:\n",
    "        print('%d, max = %.2f, min = %.2f'%(i,max(aa), min(aa)))\n",
    "plt.title('disp sensors')\n",
    "plt.legend(loc='right')\n",
    "#plt.ylim([14,18])\n",
    "plt.grid()"
   ]
  },
  {
   "cell_type": "markdown",
   "metadata": {},
   "source": [
    "* draw a hexagon, each side has an arrowhead pointing clockwise. The direction of the arrows indicate positive change of disp sensor reading.\n",
    "* It is pretty clear that out of the 12 numbers, 1,3,5,7,9,11 are deltaZ, which are in z-direction. So 0,2,4,6,8,10 are in the x/y plane.\n",
    "* we don't know which way is positive z yet.\n",
    "* with x motion, all 6 sensor readings change. So y axis goes through two tangent links. x-axis is parallel to those two tangent links. It cannot be the other way around. \n",
    "* x and y axes do not have arrowheads yet. But we can actually draw y-axis going up - this makes the tangent link at positive y go to the right. If it is not case, we can rotate everything around y for 180 degrees. Then it will be true. This is because we haven't fix positive x or z yet.\n",
    "* 6 and 8 change the most, which doubles 0,2,4,10. So 6 and 8 are top and bottom.\n",
    "* 0,4,6 have same sign as x. 2,8,10 have opposite sign. If above x-axis is one group, below x-axis is one group, 0,4,6 are in one group.\n",
    "* Now there are still two scenarios:\n",
    "    * 6 is at top (positive y), 8 is at bottom\n",
    "    * 8 is at top (positive y), 6 is at bottom"
   ]
  },
  {
   "cell_type": "code",
   "execution_count": 10,
   "metadata": {},
   "outputs": [],
   "source": [
    "#get data ready for later test\n",
    "aa = data['disp_proc'][:,8]\n",
    "idx = np.argmax(aa == max(aa))\n",
    "disp_nx_500 = data['disp_proc'][idx,:] - data['disp_proc'][0,:]"
   ]
  },
  {
   "cell_type": "code",
   "execution_count": 11,
   "metadata": {},
   "outputs": [],
   "source": [
    "#Te-Wei needs these offset values for implementing the position calculations in actual software.\n",
    "offset1 = data['disp_proc'][0,:]"
   ]
  },
  {
   "cell_type": "markdown",
   "metadata": {},
   "source": [
    "### Multiple positions for +y\n",
    "The start and end time below are obtained by looking at the corresponding plots in a19_position_repeatability.ipynb"
   ]
  },
  {
   "cell_type": "code",
   "execution_count": 12,
   "metadata": {},
   "outputs": [],
   "source": [
    "start = Time('2020-03-04T18:12:00') #this is UTC\n",
    "end = Time('2020-03-04T18:17:00') "
   ]
  },
  {
   "cell_type": "code",
   "execution_count": 13,
   "metadata": {},
   "outputs": [],
   "source": [
    "df = await client.select_time_series('lsst.sal.MTM2.mirrorPositionMeasured', '*', \n",
    "                                     (start-timedelta(seconds=37)).tai, (end-timedelta(seconds=37)).tai, csc_index)"
   ]
  },
  {
   "cell_type": "code",
   "execution_count": 14,
   "metadata": {},
   "outputs": [
    {
     "data": {
      "image/png": "[encoded data removed]",
      "text/plain": [
       "<Figure size 1080x216 with 1 Axes>"
      ]
     },
     "metadata": {
      "needs_background": "light"
     },
     "output_type": "display_data"
    }
   ],
   "source": [
    "fig, ax = plt.subplots(figsize=(15,3))\n",
    "plt.plot(pd.to_datetime(df.private_sndStamp, unit='s'), df.xPosition, label='x')\n",
    "plt.plot(pd.to_datetime(df.private_sndStamp, unit='s'), df.yPosition, label='y')\n",
    "plt.plot(pd.to_datetime(df.private_sndStamp, unit='s'), df.piston, label='z')\n",
    "plt.plot(pd.to_datetime(df.private_sndStamp, unit='s'), df.xTilt, label='xTilt')\n",
    "plt.plot(pd.to_datetime(df.private_sndStamp, unit='s'), df.yTilt, label='yTilt')\n",
    "plt.plot(pd.to_datetime(df.private_sndStamp, unit='s'), df.thetaZPosition, label = 'thetaZ')\n",
    "plt.title('mirror position: micron or radian')\n",
    "plt.legend(loc='lower left')\n",
    "plt.grid();"
   ]
  },
  {
   "cell_type": "code",
   "execution_count": 15,
   "metadata": {},
   "outputs": [],
   "source": [
    "# cut out only the time period we are interested in\n",
    "idx = (nt>start) & (nt<end)\n",
    "data = {}\n",
    "for n, v in ndata.items():\n",
    "    if len(v.shape)>1:\n",
    "        data[n] = v[idx,:]\n",
    "    else:\n",
    "        data[n] = v[idx]\n",
    "t = nt[idx]"
   ]
  },
  {
   "cell_type": "code",
   "execution_count": 16,
   "metadata": {},
   "outputs": [
    {
     "name": "stdout",
     "output_type": "stream",
     "text": [
      "0, max = 0.00, min = -0.44\n",
      "2, max = 0.00, min = -0.45\n",
      "4, max = 0.44, min = -0.00\n",
      "10, max = 0.45, min = 0.00\n"
     ]
    },
    {
     "data": {
      "image/png": "[encoded data removed]",
      "text/plain": [
       "<Figure size 1080x216 with 1 Axes>"
      ]
     },
     "metadata": {
      "needs_background": "light"
     },
     "output_type": "display_data"
    }
   ],
   "source": [
    "fig, ax = plt.subplots(figsize=(15,3))\n",
    "nsensor = data['disp_proc'].shape[1]\n",
    "for i in range(nsensor):\n",
    "    aa = data['disp_proc'][:,i]-data['disp_proc'][0,i]\n",
    "    plt.plot(t, aa,'-', label='%d'%i)\n",
    "    if max(abs(aa))>0.1:\n",
    "        print('%d, max = %.2f, min = %.2f'%(i,max(aa), min(aa)))\n",
    "plt.title('disp sensors')\n",
    "plt.legend(loc='right')\n",
    "#plt.ylim([14,18])\n",
    "plt.grid()"
   ]
  },
  {
   "cell_type": "markdown",
   "metadata": {},
   "source": [
    "* 0 and 2 go opposite of y-axis\n",
    "* 4 and 10 go the same direction of y-axis\n",
    "* The two scenarios above both can work. But now for each of those, we can write down numbers (0,2,4,6,8,10) for all sensors.\n",
    "* we will need more measurements (below) to confirm one and prove the other wrong."
   ]
  },
  {
   "cell_type": "code",
   "execution_count": 17,
   "metadata": {},
   "outputs": [],
   "source": [
    "#get data ready for later test\n",
    "aa = data['disp_proc'][:,4]\n",
    "idx = np.argmax(aa == max(aa))\n",
    "disp_py_500 = data['disp_proc'][idx,:] - data['disp_proc'][0,:]"
   ]
  },
  {
   "cell_type": "code",
   "execution_count": 18,
   "metadata": {},
   "outputs": [
    {
     "name": "stdout",
     "output_type": "stream",
     "text": [
      "[ 0.0009985   0.00050068 -0.00299835 -0.00100136  0.         -0.00100136\n",
      "  0.00249863  0.00150108 -0.00399971 -0.00200081  0.00500011 -0.00050163]\n"
     ]
    }
   ],
   "source": [
    "#Te-Wei needs these offset values for implementing the position calculations in actual software.\n",
    "offset2 = data['disp_proc'][0,:]\n",
    "print(offset1-offset2)"
   ]
  },
  {
   "cell_type": "markdown",
   "metadata": {},
   "source": [
    "### Multiple positions for +z,\n",
    "The start and end time below are obtained by looking at the corresponding plots in a19_position_repeatability.ipynb"
   ]
  },
  {
   "cell_type": "code",
   "execution_count": 19,
   "metadata": {},
   "outputs": [],
   "source": [
    "start = Time('2020-03-04T18:24:00') #this is UTC\n",
    "end = Time('2020-03-04T18:30:00') \n",
    "df = await client.select_time_series('lsst.sal.MTM2.mirrorPositionMeasured', '*', \n",
    "                                     (start-timedelta(seconds=37)).tai, (end-timedelta(seconds=37)).tai, csc_index)"
   ]
  },
  {
   "cell_type": "code",
   "execution_count": 20,
   "metadata": {},
   "outputs": [
    {
     "data": {
      "image/png": "[encoded data removed]",
      "text/plain": [
       "<Figure size 1080x216 with 1 Axes>"
      ]
     },
     "metadata": {
      "needs_background": "light"
     },
     "output_type": "display_data"
    }
   ],
   "source": [
    "fig, ax = plt.subplots(figsize=(15,3))\n",
    "plt.plot(pd.to_datetime(df.private_sndStamp, unit='s'), df.xPosition, label='x')\n",
    "plt.plot(pd.to_datetime(df.private_sndStamp, unit='s'), df.yPosition, label='y')\n",
    "plt.plot(pd.to_datetime(df.private_sndStamp, unit='s'), df.piston, label='z')\n",
    "plt.plot(pd.to_datetime(df.private_sndStamp, unit='s'), df.xTilt, label='xTilt')\n",
    "plt.plot(pd.to_datetime(df.private_sndStamp, unit='s'), df.yTilt, label='yTilt')\n",
    "plt.plot(pd.to_datetime(df.private_sndStamp, unit='s'), df.thetaZPosition, label = 'thetaZ')\n",
    "plt.title('mirror position: micron or raidan')\n",
    "plt.legend(loc='lower left')\n",
    "plt.grid();"
   ]
  },
  {
   "cell_type": "code",
   "execution_count": 21,
   "metadata": {},
   "outputs": [],
   "source": [
    "# cut out only the time period we are interested in\n",
    "idx = (nt>start) & (nt<end)\n",
    "data = {}\n",
    "for n, v in ndata.items():\n",
    "    if len(v.shape)>1:\n",
    "        data[n] = v[idx,:]\n",
    "    else:\n",
    "        data[n] = v[idx]\n",
    "t = nt[idx]"
   ]
  },
  {
   "cell_type": "code",
   "execution_count": 22,
   "metadata": {},
   "outputs": [
    {
     "name": "stdout",
     "output_type": "stream",
     "text": [
      "1, max = 0.50\n",
      "3, max = 0.50\n",
      "5, max = 0.50\n",
      "7, max = 0.50\n",
      "9, max = 0.50\n",
      "11, max = 0.50\n"
     ]
    },
    {
     "data": {
      "image/png": "[encoded data removed]",
      "text/plain": [
       "<Figure size 1080x216 with 1 Axes>"
      ]
     },
     "metadata": {
      "needs_background": "light"
     },
     "output_type": "display_data"
    }
   ],
   "source": [
    "fig, ax = plt.subplots(figsize=(15,3))\n",
    "nsensor = data['disp_proc'].shape[1]\n",
    "for i in range(nsensor):\n",
    "    aa = data['disp_proc'][:,i]-data['disp_proc'][0,i]\n",
    "    plt.plot(t, aa,'-', label='%d'%i)\n",
    "    if max((aa))>0.1:\n",
    "        print('%d, max = %.2f'%(i,max(abs(aa))))\n",
    "plt.title('disp sensors')\n",
    "plt.legend(loc='right')\n",
    "#plt.ylim([14,18])\n",
    "plt.grid()"
   ]
  },
  {
   "cell_type": "markdown",
   "metadata": {},
   "source": [
    "* so deltaZ is same direction of the z-axis. All deltaZ sensors are identical. Great.\n",
    "* but we don't know if the positive deltaZ readings go into the paper or out of the paper."
   ]
  },
  {
   "cell_type": "code",
   "execution_count": 23,
   "metadata": {},
   "outputs": [],
   "source": [
    "#get data ready for later test\n",
    "aa = data['disp_proc'][:,1]\n",
    "idx = np.argmax(aa == max(aa))\n",
    "disp_pz_500 = data['disp_proc'][idx,:] - data['disp_proc'][0,:]"
   ]
  },
  {
   "cell_type": "code",
   "execution_count": 24,
   "metadata": {},
   "outputs": [
    {
     "name": "stdout",
     "output_type": "stream",
     "text": [
      "[ 0.00049973  0.         -0.00149918 -0.00150108  0.00250053  0.\n",
      "  0.00199986  0.         -0.00099945 -0.00050163  0.00899982  0.00099945]\n"
     ]
    }
   ],
   "source": [
    "#Te-Wei needs these offset values for implementing the position calculations in actual software.\n",
    "offset3 = data['disp_proc'][0,:]\n",
    "print(offset1-offset3)"
   ]
  },
  {
   "cell_type": "markdown",
   "metadata": {},
   "source": [
    "### x-tilt"
   ]
  },
  {
   "cell_type": "code",
   "execution_count": 25,
   "metadata": {},
   "outputs": [],
   "source": [
    "#x tilt\n",
    "start = Time('2020-03-04T18:34:00') #this is UTC\n",
    "end = Time('2020-03-04T19:10:00') "
   ]
  },
  {
   "cell_type": "code",
   "execution_count": 26,
   "metadata": {},
   "outputs": [],
   "source": [
    "df = await client.select_time_series('lsst.sal.MTM2.mirrorPositionMeasured', '*', \n",
    "                                     (start-timedelta(seconds=37)).tai, (end-timedelta(seconds=37)).tai, csc_index)"
   ]
  },
  {
   "cell_type": "code",
   "execution_count": null,
   "metadata": {},
   "outputs": [],
   "source": [
    "fig, ax = plt.subplots(figsize=(15,3))\n",
    "plt.plot(pd.to_datetime(df.private_sndStamp, unit='s'), df.xPosition, label='x')\n",
    "plt.plot(pd.to_datetime(df.private_sndStamp, unit='s'), df.yPosition, label='y')\n",
    "plt.plot(pd.to_datetime(df.private_sndStamp, unit='s'), df.piston, label='z')\n",
    "plt.plot(pd.to_datetime(df.private_sndStamp, unit='s'), df.xTilt*1e6, label='xTilt')\n",
    "plt.plot(pd.to_datetime(df.private_sndStamp, unit='s'), df.yTilt*1e6, label='yTilt')\n",
    "plt.plot(pd.to_datetime(df.private_sndStamp, unit='s'), df.thetaZPosition*1e6, label = 'thetaZ')\n",
    "plt.title('mirror position: micron or micro-radian')\n",
    "plt.legend(loc='lower left')\n",
    "plt.grid();"
   ]
  },
  {
   "cell_type": "code",
   "execution_count": null,
   "metadata": {},
   "outputs": [],
   "source": [
    "ndata, nt, columns, nonHP, nonHPa = readBinary('mat/0304/CellTelemetry_2020-03-04_161146_003.mat')"
   ]
  },
  {
   "cell_type": "code",
   "execution_count": null,
   "metadata": {},
   "outputs": [],
   "source": [
    "nt[0]"
   ]
  },
  {
   "cell_type": "code",
   "execution_count": null,
   "metadata": {},
   "outputs": [],
   "source": [
    "nn = len(nt)\n",
    "print('%d, time duration = %.0f minutes'%(nn, nn/20/60))"
   ]
  },
  {
   "cell_type": "code",
   "execution_count": null,
   "metadata": {},
   "outputs": [],
   "source": [
    "# cut out only the time period we are interested in\n",
    "idx = (nt>start) & (nt<end)\n",
    "data = {}\n",
    "for n, v in ndata.items():\n",
    "    if len(v.shape)>1:\n",
    "        data[n] = v[idx,:]\n",
    "    else:\n",
    "        data[n] = v[idx]\n",
    "t = nt[idx]\n",
    "#warning is ok. see https://github.com/LSSTDESC/Monitor/issues/41"
   ]
  },
  {
   "cell_type": "code",
   "execution_count": null,
   "metadata": {},
   "outputs": [],
   "source": [
    "fig, ax = plt.subplots(figsize=(15,3))\n",
    "nsensor = data['disp_proc'].shape[1]\n",
    "for i in range(nsensor):\n",
    "    aa = data['disp_proc'][:,i]-data['disp_proc'][0,i]\n",
    "    plt.plot(t, aa,'-', label='%d'%i)\n",
    "    if max(abs(aa))>0.1:\n",
    "        print('%d, max = %.2f, min = %.2f'%(i-1,max(aa), min(aa)))\n",
    "plt.title('x tilt: disp sensors')\n",
    "plt.legend(loc='upper left')\n",
    "#plt.ylim([14,18])\n",
    "plt.grid()"
   ]
  },
  {
   "cell_type": "markdown",
   "metadata": {},
   "source": [
    "* positive 0,4,6 contribute to negative x-tilt - so this excludes the scenario where 6 is at positive y, where z comes out of the paper.\n",
    "## So now we know the sensor positions relative to the x,y,z axes.\n",
    "    * all thetaZ sensor positives go clockwise.\n",
    "    * all deltaZ sensor positives go into the paper.\n",
    "    * x axis points left\n",
    "    * y axis points up\n",
    "    * z axis points into the paper\n",
    "    * 8 is at positive y.\n",
    "    * clockwise, we have 8,2,0,6,4,10 (not sure why it is in this order)\n",
    "### When we go back to the summit, we should disconnect each sensor and figure out their physical loccation. Then we can map out the coordinate system on the hardware."
   ]
  },
  {
   "cell_type": "code",
   "execution_count": null,
   "metadata": {},
   "outputs": [],
   "source": [
    "#get data ready for later test\n",
    "aa = data['disp_proc'][:,9]\n",
    "idx = np.argmax(aa == max(aa))\n",
    "disp_prx_500 = data['disp_proc'][idx,:] - data['disp_proc'][0,:] #unit is micro-radian"
   ]
  },
  {
   "cell_type": "code",
   "execution_count": null,
   "metadata": {},
   "outputs": [],
   "source": [
    "#Te-Wei needs these offset values for implementing the position calculations in actual software.\n",
    "offset4 = data['disp_proc'][0,:]\n",
    "print(offset1-offset4)"
   ]
  },
  {
   "cell_type": "markdown",
   "metadata": {},
   "source": [
    "### y-tilt"
   ]
  },
  {
   "cell_type": "code",
   "execution_count": null,
   "metadata": {},
   "outputs": [],
   "source": [
    "#y tilt\n",
    "start = Time('2020-03-04T19:16:00') #this is UTC\n",
    "end = Time('2020-03-04T19:20:00') "
   ]
  },
  {
   "cell_type": "code",
   "execution_count": null,
   "metadata": {},
   "outputs": [],
   "source": [
    "df = await client.select_time_series('lsst.sal.MTM2.mirrorPositionMeasured', '*', \n",
    "                                     (start-timedelta(seconds=37)).tai, (end-timedelta(seconds=37)).tai, csc_index)"
   ]
  },
  {
   "cell_type": "code",
   "execution_count": null,
   "metadata": {},
   "outputs": [],
   "source": [
    "fig, ax = plt.subplots(figsize=(15,3))\n",
    "plt.plot(pd.to_datetime(df.private_sndStamp, unit='s'), df.xPosition, label='x')\n",
    "plt.plot(pd.to_datetime(df.private_sndStamp, unit='s'), df.yPosition, label='y')\n",
    "plt.plot(pd.to_datetime(df.private_sndStamp, unit='s'), df.piston, label='z')\n",
    "plt.plot(pd.to_datetime(df.private_sndStamp, unit='s'), df.xTilt*1e6, label='xTilt')\n",
    "plt.plot(pd.to_datetime(df.private_sndStamp, unit='s'), df.yTilt*1e6, label='yTilt')\n",
    "plt.plot(pd.to_datetime(df.private_sndStamp, unit='s'), df.thetaZPosition*1e6, label = 'thetaZ')\n",
    "plt.title('mirror position: micron or micro-radian')\n",
    "plt.legend(loc='lower left')\n",
    "plt.grid();"
   ]
  },
  {
   "cell_type": "code",
   "execution_count": null,
   "metadata": {},
   "outputs": [],
   "source": [
    "# cut out only the time period we are interested in\n",
    "idx = (nt>start) & (nt<end)\n",
    "data = {}\n",
    "for n, v in ndata.items():\n",
    "    if len(v.shape)>1:\n",
    "        data[n] = v[idx,:]\n",
    "    else:\n",
    "        data[n] = v[idx]\n",
    "t = nt[idx]"
   ]
  },
  {
   "cell_type": "code",
   "execution_count": null,
   "metadata": {},
   "outputs": [],
   "source": [
    "fig, ax = plt.subplots(figsize=(15,3))\n",
    "nsensor = data['disp_proc'].shape[1]\n",
    "for i in range(nsensor):\n",
    "    aa = data['disp_proc'][:,i]-data['disp_proc'][-1,i]\n",
    "    plt.plot(t, aa,'-', label='%d'%i)\n",
    "    if max(abs(aa))>0.1:\n",
    "        print('%d, max = %.2f, min = %.2f'%(i-1,max(aa), min(aa)))\n",
    "plt.title('y tilt: disp sensors')\n",
    "plt.legend(loc='right')\n",
    "#plt.ylim([14,18])\n",
    "plt.grid()"
   ]
  },
  {
   "cell_type": "markdown",
   "metadata": {},
   "source": [
    "* positive 0 and 2 contribute to positive y-tilt\n",
    "* this agrees with our drawing above"
   ]
  },
  {
   "cell_type": "code",
   "execution_count": null,
   "metadata": {},
   "outputs": [],
   "source": [
    "#get data ready for later test\n",
    "aa = data['disp_proc'][:,1]\n",
    "idx = np.argmax(aa == max(aa))\n",
    "disp_pry_500 = data['disp_proc'][idx,:] - data['disp_proc'][-1,:]"
   ]
  },
  {
   "cell_type": "code",
   "execution_count": null,
   "metadata": {},
   "outputs": [],
   "source": [
    "#Te-Wei needs these offset values for implementing the position calculations in actual software.\n",
    "offset5 = data['disp_proc'][0,:]\n",
    "print(offset1-offset5)"
   ]
  },
  {
   "cell_type": "markdown",
   "metadata": {},
   "source": [
    "### z-rotation"
   ]
  },
  {
   "cell_type": "code",
   "execution_count": null,
   "metadata": {},
   "outputs": [],
   "source": [
    "#z rotation\n",
    "start = Time('2020-03-04T20:02:00') #this is UTC\n",
    "end = Time('2020-03-04T20:15:00') "
   ]
  },
  {
   "cell_type": "code",
   "execution_count": null,
   "metadata": {},
   "outputs": [],
   "source": [
    "df = await client.select_time_series('lsst.sal.MTM2.mirrorPositionMeasured', '*', \n",
    "                                     (start-timedelta(seconds=37)).tai, (end-timedelta(seconds=37)).tai, csc_index)"
   ]
  },
  {
   "cell_type": "code",
   "execution_count": null,
   "metadata": {},
   "outputs": [],
   "source": [
    "fig, ax = plt.subplots(figsize=(15,3))\n",
    "plt.plot(pd.to_datetime(df.private_sndStamp, unit='s'), df.xPosition, label='x')\n",
    "plt.plot(pd.to_datetime(df.private_sndStamp, unit='s'), df.yPosition, label='y')\n",
    "plt.plot(pd.to_datetime(df.private_sndStamp, unit='s'), df.piston, label='z')\n",
    "plt.plot(pd.to_datetime(df.private_sndStamp, unit='s'), df.xTilt*1e6, label='xTilt')\n",
    "plt.plot(pd.to_datetime(df.private_sndStamp, unit='s'), df.yTilt*1e6, label='yTilt')\n",
    "plt.plot(pd.to_datetime(df.private_sndStamp, unit='s'), df.thetaZPosition*1e6, label = 'thetaZ')\n",
    "plt.title('mirror position: micron or micro-radian')\n",
    "plt.legend(loc='lower left')\n",
    "plt.grid();"
   ]
  },
  {
   "cell_type": "code",
   "execution_count": null,
   "metadata": {},
   "outputs": [],
   "source": [
    "ndata, nt, columns, nonHP, nonHPa = readBinary('mat/0304/CellTelemetry_2020-03-04_194105_000.mat')"
   ]
  },
  {
   "cell_type": "code",
   "execution_count": null,
   "metadata": {},
   "outputs": [],
   "source": [
    "nt[0]"
   ]
  },
  {
   "cell_type": "code",
   "execution_count": null,
   "metadata": {},
   "outputs": [],
   "source": [
    "nn = len(nt)\n",
    "print('%d, time duration = %.0f minutes'%(nn, nn/20/60))"
   ]
  },
  {
   "cell_type": "code",
   "execution_count": null,
   "metadata": {},
   "outputs": [],
   "source": [
    "# cut out only the time period we are interested in\n",
    "idx = (nt>start) & (nt<end)\n",
    "data = {}\n",
    "for n, v in ndata.items():\n",
    "    if len(v.shape)>1:\n",
    "        data[n] = v[idx,:]\n",
    "    else:\n",
    "        data[n] = v[idx]\n",
    "t = nt[idx]"
   ]
  },
  {
   "cell_type": "code",
   "execution_count": null,
   "metadata": {},
   "outputs": [],
   "source": [
    "fig, ax = plt.subplots(figsize=(15,3))\n",
    "nsensor = data['disp_proc'].shape[1]\n",
    "for i in range(nsensor):\n",
    "    aa = data['disp_proc'][:,i]-data['disp_proc'][-1,i]\n",
    "    plt.plot(t, aa,'-', label='%d'%i)\n",
    "    if max(abs(aa))>0.1:\n",
    "        print('%d, max = %.2f, min = %.2f'%(i,max(aa), min(aa)))\n",
    "plt.title('z rotation: disp sensors')\n",
    "plt.legend(loc='upper left')\n",
    "#plt.ylim([14,18])\n",
    "plt.grid()"
   ]
  },
  {
   "cell_type": "markdown",
   "metadata": {},
   "source": [
    "* negative deltaZ contributes to negative z\n",
    "* this agrees with our drawing above"
   ]
  },
  {
   "cell_type": "code",
   "execution_count": null,
   "metadata": {},
   "outputs": [],
   "source": [
    "#get data ready for later test\n",
    "aa = data['disp_proc'][:,8]\n",
    "idx = np.argmax(aa == min(aa))\n",
    "disp_nrz_300 = data['disp_proc'][idx,:] - data['disp_proc'][-1,:]"
   ]
  },
  {
   "cell_type": "code",
   "execution_count": null,
   "metadata": {},
   "outputs": [],
   "source": [
    "#Te-Wei needs these offset values for implementing the position calculations in actual software.\n",
    "offset6 = data['disp_proc'][0,:]\n",
    "print(offset1-offset6)"
   ]
  },
  {
   "cell_type": "code",
   "execution_count": null,
   "metadata": {},
   "outputs": [],
   "source": [
    "c30 = np.cos(30/180*np.pi)\n",
    "thetaz_scaling = 0.50/500 #0.51 above corresponds to 500um #we assume the 0.51 is in mm, 0.5mm = 500um\n",
    "deltaz_scaling = thetaz_scaling #they should be same if they are same kind of sensors\n",
    "R_M2 = np.sqrt(1781.04**2+9.52**2)*1e-3 #using R1 location from Neill Mills. Z1 is a tiny bit different.\n",
    "tilt_scaling = (1/3600/180*np.pi*R_M2*1e6)*deltaz_scaling #we use arcsec for tilt angle. This converts it into um at a distance of R_M2\n",
    "c1 = np.array([ 0.5, 0, -0.5, 0, 0.5, 0, 1, 0, -1, 0, -0.5, 0])*thetaz_scaling #column 1, for x\n",
    "c2 = np.array([-c30, 0, -c30, 0, c30, 0, 0, 0, 0,  0, c30, 0])*thetaz_scaling #column 2, for y\n",
    "c3 = np.array([0, 1, 0, 1, 0, 1, 0, 1, 0, 1, 0, 1])*deltaz_scaling #column 3, for z\n",
    "c4 = np.array([0, -0.5, 0, 0.5, 0, -0.5, 0, -1, 0, 1, 0, 0.5])*tilt_scaling #for x-tilt, \n",
    "c5 = np.array([0, c30,0, c30, 0, -c30, 0, 0, 0, 0, 0, -c30])*tilt_scaling #for y-tilt\n",
    "c6 = np.array([1, 0, 1, 0, 1, 0 ,1, 0, 1, 0, 1, 0])*tilt_scaling #for z-rotation, \n",
    "\n",
    "dof2disp = np.vstack((c1,c2,c3,c4,c5,c6)).transpose()\n",
    "disp2dof = np.linalg.pinv(dof2disp)"
   ]
  },
  {
   "cell_type": "code",
   "execution_count": null,
   "metadata": {},
   "outputs": [],
   "source": [
    "aa = (1/3600/180*np.pi)*1e6\n",
    "as2urad = np.array([1,1,1,aa,aa,aa])\n",
    "pos_nx_500 = np.matmul(disp2dof, disp_nx_500)*as2urad\n",
    "pos_py_500 = np.matmul(disp2dof, disp_py_500)*as2urad\n",
    "pos_pz_500 = np.matmul(disp2dof, disp_pz_500)*as2urad\n",
    "pos_prx_500 = np.matmul(disp2dof, disp_prx_500)*as2urad\n",
    "pos_pry_500 = np.matmul(disp2dof, disp_pry_500)*as2urad\n",
    "pos_nrz_300 = np.matmul(disp2dof, disp_nrz_300)*as2urad"
   ]
  },
  {
   "cell_type": "code",
   "execution_count": null,
   "metadata": {},
   "outputs": [],
   "source": [
    "fig, ax = plt.subplots(3,2, figsize=(15,15))\n",
    "ax[0][0].plot(pos_nx_500,'-o')\n",
    "ax[0][0].set_title('x = -500um')\n",
    "ax[0][0].grid()\n",
    "ax[0][1].plot(pos_py_500,'-o')\n",
    "ax[0][1].set_title('y = +500um')\n",
    "ax[0][1].grid()\n",
    "ax[1][0].plot(pos_pz_500,'-o')\n",
    "ax[1][0].set_title('z = +500um')\n",
    "ax[1][0].grid()\n",
    "ax[1][1].plot(pos_prx_500,'-o')\n",
    "ax[1][1].set_title('rx = +500 urad')\n",
    "ax[1][1].grid()\n",
    "ax[2][0].plot(pos_pry_500,'-o')\n",
    "ax[2][0].set_title('ry = +500 urad')\n",
    "ax[2][0].grid()\n",
    "ax[2][1].plot(pos_nrz_300,'-o')\n",
    "ax[2][1].set_title('rz = -300 urad')\n",
    "ax[2][1].grid()"
   ]
  },
  {
   "cell_type": "code",
   "execution_count": null,
   "metadata": {},
   "outputs": [],
   "source": [
    "np.savetxt('disp2dof.txt', disp2dof, fmt = ' '.join(['%8.3f' for i in range(12)]), \n",
    "           header = \n",
    "           '6x12 matrx \\n multipling with 12x1 vector read from disp sensors gives x,y,z in um and rx,ry,rz in arcsec\\\n",
    "           \\n Disp sensor readings need to have offsets subtracted' )"
   ]
  },
  {
   "cell_type": "code",
   "execution_count": null,
   "metadata": {},
   "outputs": [],
   "source": [
    "np.savetxt('dispOffsets.txt', offset1, fmt = '%8.3f',\n",
    "          header = 'offset positions for IMS sensors. Unit is the same as in the binary output files.')"
   ]
  },
  {
   "cell_type": "code",
   "execution_count": null,
   "metadata": {},
   "outputs": [],
   "source": [
    "disp2dof.shape"
   ]
  },
  {
   "cell_type": "code",
   "execution_count": null,
   "metadata": {},
   "outputs": [],
   "source": []
  }
 ],
 "metadata": {
  "kernelspec": {
   "display_name": "Python 3",
   "language": "python",
   "name": "python3"
  },
  "language_info": {
   "codemirror_mode": {
    "name": "ipython",
    "version": 3
   },
   "file_extension": ".py",
   "mimetype": "text/x-python",
   "name": "python",
   "nbconvert_exporter": "python",
   "pygments_lexer": "ipython3",
   "version": "3.7.4"
  }
 },
 "nbformat": 4,
 "nbformat_minor": 2
}
