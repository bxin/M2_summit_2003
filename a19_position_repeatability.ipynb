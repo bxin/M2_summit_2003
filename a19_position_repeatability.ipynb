{
 "cells": [
  {
   "cell_type": "code",
   "execution_count": 1,
   "metadata": {},
   "outputs": [],
   "source": [
    "from openpyxl import load_workbook\n",
    "\n",
    "from astropy.time import Time\n",
    "from datetime import timedelta, datetime\n",
    "from lsst_efd_client import EfdClient\n",
    "\n",
    "import matplotlib.pyplot as plt\n",
    "import scipy.io\n",
    "import numpy as np\n",
    "import pandas as pd\n",
    "\n",
    "from pandas.plotting import register_matplotlib_converters\n",
    "register_matplotlib_converters()"
   ]
  },
  {
   "cell_type": "markdown",
   "metadata": {},
   "source": [
    "### Multiple positions for +x, see\n",
    "https://jira.lsstcorp.org/secure/Tests.jspa#/testPlayer/testExecution/LVV-E1008"
   ]
  },
  {
   "cell_type": "code",
   "execution_count": 2,
   "metadata": {},
   "outputs": [],
   "source": [
    "start = Time('2020-03-04T17:49:00') #this is UTC\n",
    "end = Time('2020-03-04T18:12:00') \n",
    "\n",
    "client = EfdClient('summit_efd')\n",
    "csc_index = 1"
   ]
  },
  {
   "cell_type": "code",
   "execution_count": 3,
   "metadata": {},
   "outputs": [
    {
     "data": {
      "text/html": [
       "<div>\n",
       "<style scoped>\n",
       "    .dataframe tbody tr th:only-of-type {\n",
       "        vertical-align: middle;\n",
       "    }\n",
       "\n",
       "    .dataframe tbody tr th {\n",
       "        vertical-align: top;\n",
       "    }\n",
       "\n",
       "    .dataframe thead th {\n",
       "        text-align: right;\n",
       "    }\n",
       "</style>\n",
       "<table border=\"1\" class=\"dataframe\">\n",
       "  <thead>\n",
       "    <tr style=\"text-align: right;\">\n",
       "      <th></th>\n",
       "      <th>piston</th>\n",
       "      <th>private_host</th>\n",
       "      <th>private_kafkaStamp</th>\n",
       "      <th>private_origin</th>\n",
       "      <th>private_rcvStamp</th>\n",
       "      <th>private_revCode</th>\n",
       "      <th>private_seqNum</th>\n",
       "      <th>private_sndStamp</th>\n",
       "      <th>thetaZPosition</th>\n",
       "      <th>xPosition</th>\n",
       "      <th>xTilt</th>\n",
       "      <th>yPosition</th>\n",
       "      <th>yTilt</th>\n",
       "    </tr>\n",
       "  </thead>\n",
       "  <tbody>\n",
       "    <tr>\n",
       "      <th>2020-03-04 17:49:00.011000+00:00</th>\n",
       "      <td>0.416174</td>\n",
       "      <td>1</td>\n",
       "      <td>1.583344e+09</td>\n",
       "      <td>125069</td>\n",
       "      <td>1.583344e+09</td>\n",
       "      <td>c3c6bc7d</td>\n",
       "      <td>1956559</td>\n",
       "      <td>1.583344e+09</td>\n",
       "      <td>2.120036e-10</td>\n",
       "      <td>0.306845</td>\n",
       "      <td>-1.563860e-08</td>\n",
       "      <td>-0.175872</td>\n",
       "      <td>-1.846662e-08</td>\n",
       "    </tr>\n",
       "    <tr>\n",
       "      <th>2020-03-04 17:49:00.059000+00:00</th>\n",
       "      <td>0.416174</td>\n",
       "      <td>1</td>\n",
       "      <td>1.583344e+09</td>\n",
       "      <td>125069</td>\n",
       "      <td>1.583344e+09</td>\n",
       "      <td>c3c6bc7d</td>\n",
       "      <td>1956568</td>\n",
       "      <td>1.583344e+09</td>\n",
       "      <td>2.120036e-10</td>\n",
       "      <td>0.306845</td>\n",
       "      <td>-1.563860e-08</td>\n",
       "      <td>-0.175872</td>\n",
       "      <td>-1.846662e-08</td>\n",
       "    </tr>\n",
       "    <tr>\n",
       "      <th>2020-03-04 17:49:00.109000+00:00</th>\n",
       "      <td>0.416174</td>\n",
       "      <td>1</td>\n",
       "      <td>1.583344e+09</td>\n",
       "      <td>125069</td>\n",
       "      <td>1.583344e+09</td>\n",
       "      <td>c3c6bc7d</td>\n",
       "      <td>1956577</td>\n",
       "      <td>1.583344e+09</td>\n",
       "      <td>2.120036e-10</td>\n",
       "      <td>0.306845</td>\n",
       "      <td>-1.563860e-08</td>\n",
       "      <td>-0.175872</td>\n",
       "      <td>-1.846662e-08</td>\n",
       "    </tr>\n",
       "    <tr>\n",
       "      <th>2020-03-04 17:49:00.160000+00:00</th>\n",
       "      <td>0.416174</td>\n",
       "      <td>1</td>\n",
       "      <td>1.583344e+09</td>\n",
       "      <td>125069</td>\n",
       "      <td>1.583344e+09</td>\n",
       "      <td>c3c6bc7d</td>\n",
       "      <td>1956586</td>\n",
       "      <td>1.583344e+09</td>\n",
       "      <td>2.120036e-10</td>\n",
       "      <td>0.306845</td>\n",
       "      <td>-1.563860e-08</td>\n",
       "      <td>-0.175872</td>\n",
       "      <td>-1.846662e-08</td>\n",
       "    </tr>\n",
       "    <tr>\n",
       "      <th>2020-03-04 17:49:00.211000+00:00</th>\n",
       "      <td>0.416174</td>\n",
       "      <td>1</td>\n",
       "      <td>1.583344e+09</td>\n",
       "      <td>125069</td>\n",
       "      <td>1.583344e+09</td>\n",
       "      <td>c3c6bc7d</td>\n",
       "      <td>1956595</td>\n",
       "      <td>1.583344e+09</td>\n",
       "      <td>2.120036e-10</td>\n",
       "      <td>0.306845</td>\n",
       "      <td>-1.563860e-08</td>\n",
       "      <td>-0.175872</td>\n",
       "      <td>-1.846662e-08</td>\n",
       "    </tr>\n",
       "  </tbody>\n",
       "</table>\n",
       "</div>"
      ],
      "text/plain": [
       "                                    piston  private_host  private_kafkaStamp  \\\n",
       "2020-03-04 17:49:00.011000+00:00  0.416174             1        1.583344e+09   \n",
       "2020-03-04 17:49:00.059000+00:00  0.416174             1        1.583344e+09   \n",
       "2020-03-04 17:49:00.109000+00:00  0.416174             1        1.583344e+09   \n",
       "2020-03-04 17:49:00.160000+00:00  0.416174             1        1.583344e+09   \n",
       "2020-03-04 17:49:00.211000+00:00  0.416174             1        1.583344e+09   \n",
       "\n",
       "                                  private_origin  private_rcvStamp  \\\n",
       "2020-03-04 17:49:00.011000+00:00          125069      1.583344e+09   \n",
       "2020-03-04 17:49:00.059000+00:00          125069      1.583344e+09   \n",
       "2020-03-04 17:49:00.109000+00:00          125069      1.583344e+09   \n",
       "2020-03-04 17:49:00.160000+00:00          125069      1.583344e+09   \n",
       "2020-03-04 17:49:00.211000+00:00          125069      1.583344e+09   \n",
       "\n",
       "                                 private_revCode  private_seqNum  \\\n",
       "2020-03-04 17:49:00.011000+00:00        c3c6bc7d         1956559   \n",
       "2020-03-04 17:49:00.059000+00:00        c3c6bc7d         1956568   \n",
       "2020-03-04 17:49:00.109000+00:00        c3c6bc7d         1956577   \n",
       "2020-03-04 17:49:00.160000+00:00        c3c6bc7d         1956586   \n",
       "2020-03-04 17:49:00.211000+00:00        c3c6bc7d         1956595   \n",
       "\n",
       "                                  private_sndStamp  thetaZPosition  xPosition  \\\n",
       "2020-03-04 17:49:00.011000+00:00      1.583344e+09    2.120036e-10   0.306845   \n",
       "2020-03-04 17:49:00.059000+00:00      1.583344e+09    2.120036e-10   0.306845   \n",
       "2020-03-04 17:49:00.109000+00:00      1.583344e+09    2.120036e-10   0.306845   \n",
       "2020-03-04 17:49:00.160000+00:00      1.583344e+09    2.120036e-10   0.306845   \n",
       "2020-03-04 17:49:00.211000+00:00      1.583344e+09    2.120036e-10   0.306845   \n",
       "\n",
       "                                         xTilt  yPosition         yTilt  \n",
       "2020-03-04 17:49:00.011000+00:00 -1.563860e-08  -0.175872 -1.846662e-08  \n",
       "2020-03-04 17:49:00.059000+00:00 -1.563860e-08  -0.175872 -1.846662e-08  \n",
       "2020-03-04 17:49:00.109000+00:00 -1.563860e-08  -0.175872 -1.846662e-08  \n",
       "2020-03-04 17:49:00.160000+00:00 -1.563860e-08  -0.175872 -1.846662e-08  \n",
       "2020-03-04 17:49:00.211000+00:00 -1.563860e-08  -0.175872 -1.846662e-08  "
      ]
     },
     "execution_count": 3,
     "metadata": {},
     "output_type": "execute_result"
    }
   ],
   "source": [
    "df = await client.select_time_series('lsst.sal.MTM2.mirrorPositionMeasured', '*', \n",
    "                                     (start-timedelta(seconds=37)).tai, (end-timedelta(seconds=37)).tai, csc_index)\n",
    "df.head()"
   ]
  },
  {
   "cell_type": "code",
   "execution_count": 5,
   "metadata": {},
   "outputs": [
    {
     "data": {
      "image/png": "[encoded data removed]",
      "text/plain": [
       "<Figure size 1080x216 with 1 Axes>"
      ]
     },
     "metadata": {
      "needs_background": "light"
     },
     "output_type": "display_data"
    }
   ],
   "source": [
    "fig, ax = plt.subplots(figsize=(15,3))\n",
    "plt.plot(pd.to_datetime(df.private_sndStamp, unit='s'), df.xPosition, label='x')\n",
    "plt.plot(pd.to_datetime(df.private_sndStamp, unit='s'), df.yPosition, label='y')\n",
    "plt.plot(pd.to_datetime(df.private_sndStamp, unit='s'), df.piston, label='z')\n",
    "plt.plot(pd.to_datetime(df.private_sndStamp, unit='s'), df.xTilt, label='xTilt')\n",
    "plt.plot(pd.to_datetime(df.private_sndStamp, unit='s'), df.yTilt, label='yTilt')\n",
    "plt.plot(pd.to_datetime(df.private_sndStamp, unit='s'), df.thetaZPosition, label = 'thetaZ')\n",
    "plt.title('mirror position')\n",
    "plt.legend(loc='lower left')\n",
    "plt.grid();"
   ]
  },
  {
   "cell_type": "code",
   "execution_count": 30,
   "metadata": {},
   "outputs": [],
   "source": [
    "myMean = np.zeros((6, 12))\n",
    "myStd = np.zeros((6, 12))\n",
    "def fillMeanStd(df, idx, myMean, myStd, icol):\n",
    "    myMean[0,icol] = np.mean(df.xPosition[idx])\n",
    "    myMean[1,icol] = np.mean(df.yPosition[idx])\n",
    "    myMean[2,icol] = np.mean(df.piston[idx])\n",
    "    myMean[3,icol] = np.mean(df.xTilt[idx])\n",
    "    myMean[4,icol] = np.mean(df.yTilt[idx])\n",
    "    myMean[5,icol] = np.mean(df.thetaZPosition[idx])\n",
    "    myStd[0,icol] = np.std(df.xPosition[idx])\n",
    "    myStd[1,icol] = np.std(df.yPosition[idx])\n",
    "    myStd[2,icol] = np.std(df.piston[idx])\n",
    "    myStd[3,icol] = np.std(df.xTilt[idx])\n",
    "    myStd[4,icol] = np.std(df.yTilt[idx])\n",
    "    myStd[5,icol] = np.std(df.thetaZPosition[idx])\n",
    "    return myMean, myStd"
   ]
  },
  {
   "cell_type": "code",
   "execution_count": 74,
   "metadata": {},
   "outputs": [
    {
     "name": "stdout",
     "output_type": "stream",
     "text": [
      "21110\n"
     ]
    }
   ],
   "source": [
    "xx = np.array(df.xPosition)\n",
    "idx0 = np.arange(32*20) #32 seconds\n",
    "for i in range(12):\n",
    "    if i==0:\n",
    "        aa = 0\n",
    "    elif i==1:\n",
    "        aa = np.argmax(xx>99)+200\n",
    "    elif i==2:\n",
    "        aa = np.argmax(xx>299)+200\n",
    "    elif i==3:\n",
    "        aa = np.argmax(xx>499)+200\n",
    "    elif i==4:\n",
    "        aa = len(xx) - np.argmax(xx[::-1]>299)-37*20\n",
    "    elif i==5:\n",
    "        aa = len(xx) - np.argmax(xx[::-1]>99)-37*20\n",
    "    elif i==6:\n",
    "        aa = np.argmax(xx<-1)-37*20\n",
    "    elif i==7:\n",
    "        aa = np.argmax(xx<-99)+200\n",
    "    elif i==8:\n",
    "        aa = np.argmax(xx<-299)+200\n",
    "        print(aa)\n",
    "    elif i==9:\n",
    "        aa = np.argmax(xx<-499)+200\n",
    "    elif i==10:\n",
    "        aa = len(xx) - np.argmax(xx[::-1]<-299)-37*20\n",
    "    elif i==11:\n",
    "        aa = len(xx) - np.argmax(xx[::-1]<-99)-37*20\n",
    "    idxi = np.arange(aa, aa+20*20) #we only doing 20 seconds duration, because i=8, the 2nd -300um was short\n",
    "    myMean, myStd = fillMeanStd(df, idxi, myMean, myStd, i)"
   ]
  },
  {
   "cell_type": "markdown",
   "metadata": {},
   "source": [
    "### stability"
   ]
  },
  {
   "cell_type": "code",
   "execution_count": 76,
   "metadata": {},
   "outputs": [
    {
     "data": {
      "text/plain": [
       "0.0001737325232866784"
      ]
     },
     "execution_count": 76,
     "metadata": {},
     "output_type": "execute_result"
    }
   ],
   "source": [
    "np.max(myStd)"
   ]
  },
  {
   "cell_type": "code",
   "execution_count": 79,
   "metadata": {},
   "outputs": [
    {
     "data": {
      "image/png": "[encoded data removed]",
      "text/plain": [
       "<Figure size 432x288 with 1 Axes>"
      ]
     },
     "metadata": {
      "needs_background": "light"
     },
     "output_type": "display_data"
    }
   ],
   "source": [
    "plt.plot(myStd)\n",
    "plt.title('unit is micron!');"
   ]
  },
  {
   "cell_type": "code",
   "execution_count": 73,
   "metadata": {},
   "outputs": [
    {
     "data": {
      "text/plain": [
       "[<matplotlib.lines.Line2D at 0x1210ed250>]"
      ]
     },
     "execution_count": 73,
     "metadata": {},
     "output_type": "execute_result"
    },
    {
     "data": {
      "image/png": "[encoded data removed]",
      "text/plain": [
       "<Figure size 432x288 with 1 Axes>"
      ]
     },
     "metadata": {
      "needs_background": "light"
     },
     "output_type": "display_data"
    }
   ],
   "source": [
    "plt.plot(pd.to_datetime(df.private_sndStamp[21110:21110+20*20], unit='s'), df.xPosition[21110:21110+20*20], label='x')"
   ]
  },
  {
   "cell_type": "code",
   "execution_count": 88,
   "metadata": {},
   "outputs": [
    {
     "data": {
      "image/png": "[encoded data removed]",
      "text/plain": [
       "<Figure size 432x288 with 1 Axes>"
      ]
     },
     "metadata": {
      "needs_background": "light"
     },
     "output_type": "display_data"
    }
   ],
   "source": [
    "plt.plot(myMean.transpose(),'-o')\n",
    "plt.legend(['x','y','z','Rx', 'Ry', 'Rz']);"
   ]
  },
  {
   "cell_type": "markdown",
   "metadata": {},
   "source": [
    "### Repeatability? (hysterisis?)"
   ]
  },
  {
   "cell_type": "code",
   "execution_count": 95,
   "metadata": {},
   "outputs": [
    {
     "name": "stdout",
     "output_type": "stream",
     "text": [
      "-12.3805412619447\n",
      "-28.205530016521152\n",
      "-27.41247547724015\n",
      "-59.87582869539665\n",
      "-28.39710376065341\n",
      "-24.631307193582558\n",
      "-5.524239904843853\n",
      "-20.090248617634643\n",
      "-18.401650504517875\n",
      "-51.492863234091146\n",
      "-20.361261322250357\n"
     ]
    },
    {
     "data": {
      "image/png": "[encoded data removed]",
      "text/plain": [
       "<Figure size 432x288 with 1 Axes>"
      ]
     },
     "metadata": {
      "needs_background": "light"
     },
     "output_type": "display_data"
    }
   ],
   "source": [
    "myTrue = np.array([0, 100, 300, 500, 300, 100, 0, -100, -300, -500, -300, -100])\n",
    "plt.plot(myMean[0,:])\n",
    "for i in range(1,12):\n",
    "    aa = (myMean[0,i]-myTrue[i])*(myTrue[i]-myTrue[i-1])\n",
    "    if aa>0:\n",
    "        bb = 'ro'\n",
    "    elif aa<0:\n",
    "        bb = 'bo'\n",
    "    else:\n",
    "        bb = 'go'\n",
    "    plt.plot(i, myMean[0,i],bb)"
   ]
  },
  {
   "cell_type": "code",
   "execution_count": 94,
   "metadata": {},
   "outputs": [
    {
     "data": {
      "text/plain": [
       "array([ 3.06845244e-01,  9.98761946e+01,  2.99858972e+02,  4.99862938e+02,\n",
       "        3.00299379e+02,  1.00141986e+02,  2.46313072e-01, -9.99447576e+01,\n",
       "       -2.99899549e+02, -4.99907992e+02, -3.00257464e+02, -1.00101806e+02])"
      ]
     },
     "execution_count": 94,
     "metadata": {},
     "output_type": "execute_result"
    }
   ],
   "source": [
    "myMean[0,:]"
   ]
  },
  {
   "cell_type": "markdown",
   "metadata": {},
   "source": [
    "### So we always stopped ahead of set points\n",
    "Difference in x is up to ~0.5 micron"
   ]
  },
  {
   "cell_type": "code",
   "execution_count": 96,
   "metadata": {},
   "outputs": [
    {
     "data": {
      "text/plain": [
       "0.0605321723317806"
      ]
     },
     "execution_count": 96,
     "metadata": {},
     "output_type": "execute_result"
    }
   ],
   "source": [
    "myMean[0,0] - myMean[0,6]"
   ]
  },
  {
   "cell_type": "code",
   "execution_count": 97,
   "metadata": {},
   "outputs": [
    {
     "data": {
      "text/plain": [
       "-0.26579093142271404"
      ]
     },
     "execution_count": 97,
     "metadata": {},
     "output_type": "execute_result"
    }
   ],
   "source": [
    "myMean[0,1] - myMean[0,5]"
   ]
  },
  {
   "cell_type": "code",
   "execution_count": 98,
   "metadata": {},
   "outputs": [
    {
     "data": {
      "text/plain": [
       "-0.440406793559589"
      ]
     },
     "execution_count": 98,
     "metadata": {},
     "output_type": "execute_result"
    }
   ],
   "source": [
    "myMean[0,2] - myMean[0,4]"
   ]
  },
  {
   "cell_type": "code",
   "execution_count": 99,
   "metadata": {},
   "outputs": [
    {
     "data": {
      "text/plain": [
       "0.1570487056596903"
      ]
     },
     "execution_count": 99,
     "metadata": {},
     "output_type": "execute_result"
    }
   ],
   "source": [
    "myMean[0,7] - myMean[0,11]"
   ]
  },
  {
   "cell_type": "code",
   "execution_count": 100,
   "metadata": {},
   "outputs": [
    {
     "data": {
      "text/plain": [
       "0.35791555925862895"
      ]
     },
     "execution_count": 100,
     "metadata": {},
     "output_type": "execute_result"
    }
   ],
   "source": [
    "myMean[0,8] - myMean[0,10]"
   ]
  },
  {
   "cell_type": "code",
   "execution_count": null,
   "metadata": {},
   "outputs": [],
   "source": []
  }
 ],
 "metadata": {
  "kernelspec": {
   "display_name": "Python 3",
   "language": "python",
   "name": "python3"
  },
  "language_info": {
   "codemirror_mode": {
    "name": "ipython",
    "version": 3
   },
   "file_extension": ".py",
   "mimetype": "text/x-python",
   "name": "python",
   "nbconvert_exporter": "python",
   "pygments_lexer": "ipython3",
   "version": "3.7.4"
  }
 },
 "nbformat": 4,
 "nbformat_minor": 2
}
