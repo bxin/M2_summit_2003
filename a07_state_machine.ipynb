{
 "cells": [
  {
   "cell_type": "markdown",
   "metadata": {},
   "source": [
    "### We look at the state transitions during the testing"
   ]
  },
  {
   "cell_type": "code",
   "execution_count": 1,
   "metadata": {},
   "outputs": [],
   "source": [
    "from openpyxl import load_workbook\n",
    "\n",
    "from astropy.time import Time\n",
    "from datetime import timedelta, datetime\n",
    "from lsst_efd_client import EfdClient\n",
    "\n",
    "import matplotlib.pyplot as plt\n",
    "import scipy.io\n",
    "import numpy as np\n",
    "import pandas as pd\n",
    "plt.jet()\n",
    "\n",
    "from pandas.plotting import register_matplotlib_converters\n",
    "register_matplotlib_converters()"
   ]
  },
  {
   "cell_type": "code",
   "execution_count": 2,
   "metadata": {},
   "outputs": [],
   "source": [
    "start = Time('2020-03-02T00:00:00') #this is UTC\n",
    "end = Time('2020-03-06T23:59:00') "
   ]
  },
  {
   "cell_type": "code",
   "execution_count": 3,
   "metadata": {},
   "outputs": [],
   "source": [
    "client = EfdClient('summit_efd')\n",
    "csc_index = 1"
   ]
  },
  {
   "cell_type": "code",
   "execution_count": 4,
   "metadata": {},
   "outputs": [
    {
     "data": {
      "text/html": [
       "<div>\n",
       "<style scoped>\n",
       "    .dataframe tbody tr th:only-of-type {\n",
       "        vertical-align: middle;\n",
       "    }\n",
       "\n",
       "    .dataframe tbody tr th {\n",
       "        vertical-align: top;\n",
       "    }\n",
       "\n",
       "    .dataframe thead th {\n",
       "        text-align: right;\n",
       "    }\n",
       "</style>\n",
       "<table border=\"1\" class=\"dataframe\">\n",
       "  <thead>\n",
       "    <tr style=\"text-align: right;\">\n",
       "      <th></th>\n",
       "      <th>priority</th>\n",
       "      <th>private_host</th>\n",
       "      <th>private_kafkaStamp</th>\n",
       "      <th>private_origin</th>\n",
       "      <th>private_rcvStamp</th>\n",
       "      <th>private_revCode</th>\n",
       "      <th>private_seqNum</th>\n",
       "      <th>private_sndStamp</th>\n",
       "      <th>summaryState</th>\n",
       "    </tr>\n",
       "  </thead>\n",
       "  <tbody>\n",
       "    <tr>\n",
       "      <th>2020-03-02 12:40:36.733059822+00:00</th>\n",
       "      <td>0</td>\n",
       "      <td>1</td>\n",
       "      <td>1.583153e+09</td>\n",
       "      <td>144799</td>\n",
       "      <td>1.583153e+09</td>\n",
       "      <td>d3ffb0cb</td>\n",
       "      <td>0</td>\n",
       "      <td>1.583153e+09</td>\n",
       "      <td>5</td>\n",
       "    </tr>\n",
       "    <tr>\n",
       "      <th>2020-03-02 12:40:36.733063439+00:00</th>\n",
       "      <td>0</td>\n",
       "      <td>1</td>\n",
       "      <td>1.583153e+09</td>\n",
       "      <td>144799</td>\n",
       "      <td>1.583153e+09</td>\n",
       "      <td>d3ffb0cb</td>\n",
       "      <td>1</td>\n",
       "      <td>1.583153e+09</td>\n",
       "      <td>1</td>\n",
       "    </tr>\n",
       "    <tr>\n",
       "      <th>2020-03-02 12:40:36.733066464+00:00</th>\n",
       "      <td>0</td>\n",
       "      <td>1</td>\n",
       "      <td>1.583153e+09</td>\n",
       "      <td>144799</td>\n",
       "      <td>1.583153e+09</td>\n",
       "      <td>d3ffb0cb</td>\n",
       "      <td>2</td>\n",
       "      <td>1.583153e+09</td>\n",
       "      <td>5</td>\n",
       "    </tr>\n",
       "    <tr>\n",
       "      <th>2020-03-02 12:40:36.733069286+00:00</th>\n",
       "      <td>0</td>\n",
       "      <td>1</td>\n",
       "      <td>1.583153e+09</td>\n",
       "      <td>144799</td>\n",
       "      <td>1.583153e+09</td>\n",
       "      <td>d3ffb0cb</td>\n",
       "      <td>3</td>\n",
       "      <td>1.583153e+09</td>\n",
       "      <td>4</td>\n",
       "    </tr>\n",
       "    <tr>\n",
       "      <th>2020-03-02 12:41:55.578619918+00:00</th>\n",
       "      <td>0</td>\n",
       "      <td>1</td>\n",
       "      <td>1.583153e+09</td>\n",
       "      <td>144799</td>\n",
       "      <td>1.583153e+09</td>\n",
       "      <td>d3ffb0cb</td>\n",
       "      <td>4</td>\n",
       "      <td>1.583153e+09</td>\n",
       "      <td>4</td>\n",
       "    </tr>\n",
       "  </tbody>\n",
       "</table>\n",
       "</div>"
      ],
      "text/plain": [
       "                                     priority  private_host  \\\n",
       "2020-03-02 12:40:36.733059822+00:00         0             1   \n",
       "2020-03-02 12:40:36.733063439+00:00         0             1   \n",
       "2020-03-02 12:40:36.733066464+00:00         0             1   \n",
       "2020-03-02 12:40:36.733069286+00:00         0             1   \n",
       "2020-03-02 12:41:55.578619918+00:00         0             1   \n",
       "\n",
       "                                     private_kafkaStamp  private_origin  \\\n",
       "2020-03-02 12:40:36.733059822+00:00        1.583153e+09          144799   \n",
       "2020-03-02 12:40:36.733063439+00:00        1.583153e+09          144799   \n",
       "2020-03-02 12:40:36.733066464+00:00        1.583153e+09          144799   \n",
       "2020-03-02 12:40:36.733069286+00:00        1.583153e+09          144799   \n",
       "2020-03-02 12:41:55.578619918+00:00        1.583153e+09          144799   \n",
       "\n",
       "                                     private_rcvStamp private_revCode  \\\n",
       "2020-03-02 12:40:36.733059822+00:00      1.583153e+09        d3ffb0cb   \n",
       "2020-03-02 12:40:36.733063439+00:00      1.583153e+09        d3ffb0cb   \n",
       "2020-03-02 12:40:36.733066464+00:00      1.583153e+09        d3ffb0cb   \n",
       "2020-03-02 12:40:36.733069286+00:00      1.583153e+09        d3ffb0cb   \n",
       "2020-03-02 12:41:55.578619918+00:00      1.583153e+09        d3ffb0cb   \n",
       "\n",
       "                                     private_seqNum  private_sndStamp  \\\n",
       "2020-03-02 12:40:36.733059822+00:00               0      1.583153e+09   \n",
       "2020-03-02 12:40:36.733063439+00:00               1      1.583153e+09   \n",
       "2020-03-02 12:40:36.733066464+00:00               2      1.583153e+09   \n",
       "2020-03-02 12:40:36.733069286+00:00               3      1.583153e+09   \n",
       "2020-03-02 12:41:55.578619918+00:00               4      1.583153e+09   \n",
       "\n",
       "                                     summaryState  \n",
       "2020-03-02 12:40:36.733059822+00:00             5  \n",
       "2020-03-02 12:40:36.733063439+00:00             1  \n",
       "2020-03-02 12:40:36.733066464+00:00             5  \n",
       "2020-03-02 12:40:36.733069286+00:00             4  \n",
       "2020-03-02 12:41:55.578619918+00:00             4  "
      ]
     },
     "execution_count": 4,
     "metadata": {},
     "output_type": "execute_result"
    }
   ],
   "source": [
    "#known bug, M2 sends utc everywhere.\n",
    "df = await client.select_time_series('lsst.sal.MTM2.logevent_summaryState', '*', \n",
    "                                     (start-timedelta(seconds=37)).tai, (end-timedelta(seconds=37)).tai, csc_index)\n",
    "df.head()"
   ]
  },
  {
   "cell_type": "code",
   "execution_count": 8,
   "metadata": {},
   "outputs": [
    {
     "data": {
      "image/png": "[encoded data removed]",
      "text/plain": [
       "<Figure size 432x288 with 1 Axes>"
      ]
     },
     "metadata": {
      "needs_background": "light"
     },
     "output_type": "display_data"
    }
   ],
   "source": [
    "mybin = np.linspace(0, 6, 61)\n",
    "plt.hist(df.summaryState, mybin);"
   ]
  },
  {
   "cell_type": "markdown",
   "metadata": {},
   "source": [
    "* diagnostic = 1, \n",
    "* enable =2, \n",
    "* standby=5\n",
    "* ?? = 4"
   ]
  },
  {
   "cell_type": "code",
   "execution_count": null,
   "metadata": {},
   "outputs": [],
   "source": []
  }
 ],
 "metadata": {
  "kernelspec": {
   "display_name": "Python 3",
   "language": "python",
   "name": "python3"
  },
  "language_info": {
   "codemirror_mode": {
    "name": "ipython",
    "version": 3
   },
   "file_extension": ".py",
   "mimetype": "text/x-python",
   "name": "python",
   "nbconvert_exporter": "python",
   "pygments_lexer": "ipython3",
   "version": "3.7.4"
  }
 },
 "nbformat": 4,
 "nbformat_minor": 2
}
