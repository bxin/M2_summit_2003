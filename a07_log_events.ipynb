{
 "cells": [
  {
   "cell_type": "markdown",
   "metadata": {},
   "source": [
    "### We look at the state transitions during the testing"
   ]
  },
  {
   "cell_type": "code",
   "execution_count": 1,
   "metadata": {},
   "outputs": [],
   "source": [
    "from openpyxl import load_workbook\n",
    "\n",
    "from astropy.time import Time\n",
    "from datetime import timedelta, datetime\n",
    "from lsst_efd_client import EfdClient\n",
    "\n",
    "import matplotlib.pyplot as plt\n",
    "import scipy.io\n",
    "import numpy as np\n",
    "import pandas as pd\n",
    "plt.jet()\n",
    "\n",
    "from pandas.plotting import register_matplotlib_converters\n",
    "register_matplotlib_converters()"
   ]
  },
  {
   "cell_type": "code",
   "execution_count": 2,
   "metadata": {},
   "outputs": [],
   "source": [
    "start = Time('2020-03-02T00:00:00') #this is UTC\n",
    "end = Time('2020-03-06T23:59:00') "
   ]
  },
  {
   "cell_type": "code",
   "execution_count": 3,
   "metadata": {},
   "outputs": [],
   "source": [
    "client = EfdClient('summit_efd')\n",
    "csc_index = 1"
   ]
  },
  {
   "cell_type": "code",
   "execution_count": 4,
   "metadata": {},
   "outputs": [
    {
     "data": {
      "text/html": [
       "<div>\n",
       "<style scoped>\n",
       "    .dataframe tbody tr th:only-of-type {\n",
       "        vertical-align: middle;\n",
       "    }\n",
       "\n",
       "    .dataframe tbody tr th {\n",
       "        vertical-align: top;\n",
       "    }\n",
       "\n",
       "    .dataframe thead th {\n",
       "        text-align: right;\n",
       "    }\n",
       "</style>\n",
       "<table border=\"1\" class=\"dataframe\">\n",
       "  <thead>\n",
       "    <tr style=\"text-align: right;\">\n",
       "      <th></th>\n",
       "      <th>priority</th>\n",
       "      <th>private_host</th>\n",
       "      <th>private_kafkaStamp</th>\n",
       "      <th>private_origin</th>\n",
       "      <th>private_rcvStamp</th>\n",
       "      <th>private_revCode</th>\n",
       "      <th>private_seqNum</th>\n",
       "      <th>private_sndStamp</th>\n",
       "      <th>summaryState</th>\n",
       "    </tr>\n",
       "  </thead>\n",
       "  <tbody>\n",
       "    <tr>\n",
       "      <th>2020-03-02 12:40:36.733059822+00:00</th>\n",
       "      <td>0</td>\n",
       "      <td>1</td>\n",
       "      <td>1.583153e+09</td>\n",
       "      <td>144799</td>\n",
       "      <td>1.583153e+09</td>\n",
       "      <td>d3ffb0cb</td>\n",
       "      <td>0</td>\n",
       "      <td>1.583153e+09</td>\n",
       "      <td>5</td>\n",
       "    </tr>\n",
       "    <tr>\n",
       "      <th>2020-03-02 12:40:36.733063439+00:00</th>\n",
       "      <td>0</td>\n",
       "      <td>1</td>\n",
       "      <td>1.583153e+09</td>\n",
       "      <td>144799</td>\n",
       "      <td>1.583153e+09</td>\n",
       "      <td>d3ffb0cb</td>\n",
       "      <td>1</td>\n",
       "      <td>1.583153e+09</td>\n",
       "      <td>1</td>\n",
       "    </tr>\n",
       "    <tr>\n",
       "      <th>2020-03-02 12:40:36.733066464+00:00</th>\n",
       "      <td>0</td>\n",
       "      <td>1</td>\n",
       "      <td>1.583153e+09</td>\n",
       "      <td>144799</td>\n",
       "      <td>1.583153e+09</td>\n",
       "      <td>d3ffb0cb</td>\n",
       "      <td>2</td>\n",
       "      <td>1.583153e+09</td>\n",
       "      <td>5</td>\n",
       "    </tr>\n",
       "    <tr>\n",
       "      <th>2020-03-02 12:40:36.733069286+00:00</th>\n",
       "      <td>0</td>\n",
       "      <td>1</td>\n",
       "      <td>1.583153e+09</td>\n",
       "      <td>144799</td>\n",
       "      <td>1.583153e+09</td>\n",
       "      <td>d3ffb0cb</td>\n",
       "      <td>3</td>\n",
       "      <td>1.583153e+09</td>\n",
       "      <td>4</td>\n",
       "    </tr>\n",
       "    <tr>\n",
       "      <th>2020-03-02 12:41:55.578619918+00:00</th>\n",
       "      <td>0</td>\n",
       "      <td>1</td>\n",
       "      <td>1.583153e+09</td>\n",
       "      <td>144799</td>\n",
       "      <td>1.583153e+09</td>\n",
       "      <td>d3ffb0cb</td>\n",
       "      <td>4</td>\n",
       "      <td>1.583153e+09</td>\n",
       "      <td>4</td>\n",
       "    </tr>\n",
       "  </tbody>\n",
       "</table>\n",
       "</div>"
      ],
      "text/plain": [
       "                                     priority  private_host  \\\n",
       "2020-03-02 12:40:36.733059822+00:00         0             1   \n",
       "2020-03-02 12:40:36.733063439+00:00         0             1   \n",
       "2020-03-02 12:40:36.733066464+00:00         0             1   \n",
       "2020-03-02 12:40:36.733069286+00:00         0             1   \n",
       "2020-03-02 12:41:55.578619918+00:00         0             1   \n",
       "\n",
       "                                     private_kafkaStamp  private_origin  \\\n",
       "2020-03-02 12:40:36.733059822+00:00        1.583153e+09          144799   \n",
       "2020-03-02 12:40:36.733063439+00:00        1.583153e+09          144799   \n",
       "2020-03-02 12:40:36.733066464+00:00        1.583153e+09          144799   \n",
       "2020-03-02 12:40:36.733069286+00:00        1.583153e+09          144799   \n",
       "2020-03-02 12:41:55.578619918+00:00        1.583153e+09          144799   \n",
       "\n",
       "                                     private_rcvStamp private_revCode  \\\n",
       "2020-03-02 12:40:36.733059822+00:00      1.583153e+09        d3ffb0cb   \n",
       "2020-03-02 12:40:36.733063439+00:00      1.583153e+09        d3ffb0cb   \n",
       "2020-03-02 12:40:36.733066464+00:00      1.583153e+09        d3ffb0cb   \n",
       "2020-03-02 12:40:36.733069286+00:00      1.583153e+09        d3ffb0cb   \n",
       "2020-03-02 12:41:55.578619918+00:00      1.583153e+09        d3ffb0cb   \n",
       "\n",
       "                                     private_seqNum  private_sndStamp  \\\n",
       "2020-03-02 12:40:36.733059822+00:00               0      1.583153e+09   \n",
       "2020-03-02 12:40:36.733063439+00:00               1      1.583153e+09   \n",
       "2020-03-02 12:40:36.733066464+00:00               2      1.583153e+09   \n",
       "2020-03-02 12:40:36.733069286+00:00               3      1.583153e+09   \n",
       "2020-03-02 12:41:55.578619918+00:00               4      1.583153e+09   \n",
       "\n",
       "                                     summaryState  \n",
       "2020-03-02 12:40:36.733059822+00:00             5  \n",
       "2020-03-02 12:40:36.733063439+00:00             1  \n",
       "2020-03-02 12:40:36.733066464+00:00             5  \n",
       "2020-03-02 12:40:36.733069286+00:00             4  \n",
       "2020-03-02 12:41:55.578619918+00:00             4  "
      ]
     },
     "execution_count": 4,
     "metadata": {},
     "output_type": "execute_result"
    }
   ],
   "source": [
    "#known bug, M2 sends utc everywhere.\n",
    "df = await client.select_time_series('lsst.sal.MTM2.logevent_summaryState', '*', \n",
    "                                     (start-timedelta(seconds=37)).tai, (end-timedelta(seconds=37)).tai, csc_index)\n",
    "df.head()"
   ]
  },
  {
   "cell_type": "code",
   "execution_count": 5,
   "metadata": {},
   "outputs": [
    {
     "data": {
      "image/png": "[encoded data removed]",
      "text/plain": [
       "<Figure size 432x288 with 1 Axes>"
      ]
     },
     "metadata": {
      "needs_background": "light"
     },
     "output_type": "display_data"
    }
   ],
   "source": [
    "mybin = np.linspace(0, 6, 61)\n",
    "plt.hist(df.summaryState, mybin);"
   ]
  },
  {
   "cell_type": "markdown",
   "metadata": {},
   "source": [
    "* diagnostic/standby = 1, \n",
    "* enable =2, \n",
    "* fault = 3,\n",
    "* offline = 4,\n",
    "* standby=5\n"
   ]
  },
  {
   "cell_type": "code",
   "execution_count": 6,
   "metadata": {},
   "outputs": [
    {
     "data": {
      "text/html": [
       "<div>\n",
       "<style scoped>\n",
       "    .dataframe tbody tr th:only-of-type {\n",
       "        vertical-align: middle;\n",
       "    }\n",
       "\n",
       "    .dataframe tbody tr th {\n",
       "        vertical-align: top;\n",
       "    }\n",
       "\n",
       "    .dataframe thead th {\n",
       "        text-align: right;\n",
       "    }\n",
       "</style>\n",
       "<table border=\"1\" class=\"dataframe\">\n",
       "  <thead>\n",
       "    <tr style=\"text-align: right;\">\n",
       "      <th></th>\n",
       "      <th>inPosition</th>\n",
       "      <th>priority</th>\n",
       "      <th>private_host</th>\n",
       "      <th>private_kafkaStamp</th>\n",
       "      <th>private_origin</th>\n",
       "      <th>private_rcvStamp</th>\n",
       "      <th>private_revCode</th>\n",
       "      <th>private_seqNum</th>\n",
       "      <th>private_sndStamp</th>\n",
       "    </tr>\n",
       "  </thead>\n",
       "  <tbody>\n",
       "    <tr>\n",
       "      <th>2020-03-03 14:34:02.130404894+00:00</th>\n",
       "      <td>True</td>\n",
       "      <td>0</td>\n",
       "      <td>1</td>\n",
       "      <td>1.583246e+09</td>\n",
       "      <td>56244</td>\n",
       "      <td>1.583246e+09</td>\n",
       "      <td>9c71cd13</td>\n",
       "      <td>186757</td>\n",
       "      <td>1.583246e+09</td>\n",
       "    </tr>\n",
       "    <tr>\n",
       "      <th>2020-03-03 14:34:02.194133470+00:00</th>\n",
       "      <td>False</td>\n",
       "      <td>0</td>\n",
       "      <td>1</td>\n",
       "      <td>1.583246e+09</td>\n",
       "      <td>56244</td>\n",
       "      <td>1.583246e+09</td>\n",
       "      <td>9c71cd13</td>\n",
       "      <td>186776</td>\n",
       "      <td>1.583246e+09</td>\n",
       "    </tr>\n",
       "    <tr>\n",
       "      <th>2020-03-03 14:34:03.449071566+00:00</th>\n",
       "      <td>True</td>\n",
       "      <td>0</td>\n",
       "      <td>1</td>\n",
       "      <td>1.583246e+09</td>\n",
       "      <td>56244</td>\n",
       "      <td>1.583246e+09</td>\n",
       "      <td>9c71cd13</td>\n",
       "      <td>187014</td>\n",
       "      <td>1.583246e+09</td>\n",
       "    </tr>\n",
       "    <tr>\n",
       "      <th>2020-03-03 14:34:03.622588346+00:00</th>\n",
       "      <td>False</td>\n",
       "      <td>0</td>\n",
       "      <td>1</td>\n",
       "      <td>1.583246e+09</td>\n",
       "      <td>56244</td>\n",
       "      <td>1.583246e+09</td>\n",
       "      <td>9c71cd13</td>\n",
       "      <td>187043</td>\n",
       "      <td>1.583246e+09</td>\n",
       "    </tr>\n",
       "    <tr>\n",
       "      <th>2020-03-03 14:34:03.744053982+00:00</th>\n",
       "      <td>True</td>\n",
       "      <td>0</td>\n",
       "      <td>1</td>\n",
       "      <td>1.583246e+09</td>\n",
       "      <td>56244</td>\n",
       "      <td>1.583246e+09</td>\n",
       "      <td>9c71cd13</td>\n",
       "      <td>187064</td>\n",
       "      <td>1.583246e+09</td>\n",
       "    </tr>\n",
       "  </tbody>\n",
       "</table>\n",
       "</div>"
      ],
      "text/plain": [
       "                                     inPosition  priority  private_host  \\\n",
       "2020-03-03 14:34:02.130404894+00:00        True         0             1   \n",
       "2020-03-03 14:34:02.194133470+00:00       False         0             1   \n",
       "2020-03-03 14:34:03.449071566+00:00        True         0             1   \n",
       "2020-03-03 14:34:03.622588346+00:00       False         0             1   \n",
       "2020-03-03 14:34:03.744053982+00:00        True         0             1   \n",
       "\n",
       "                                     private_kafkaStamp  private_origin  \\\n",
       "2020-03-03 14:34:02.130404894+00:00        1.583246e+09           56244   \n",
       "2020-03-03 14:34:02.194133470+00:00        1.583246e+09           56244   \n",
       "2020-03-03 14:34:03.449071566+00:00        1.583246e+09           56244   \n",
       "2020-03-03 14:34:03.622588346+00:00        1.583246e+09           56244   \n",
       "2020-03-03 14:34:03.744053982+00:00        1.583246e+09           56244   \n",
       "\n",
       "                                     private_rcvStamp private_revCode  \\\n",
       "2020-03-03 14:34:02.130404894+00:00      1.583246e+09        9c71cd13   \n",
       "2020-03-03 14:34:02.194133470+00:00      1.583246e+09        9c71cd13   \n",
       "2020-03-03 14:34:03.449071566+00:00      1.583246e+09        9c71cd13   \n",
       "2020-03-03 14:34:03.622588346+00:00      1.583246e+09        9c71cd13   \n",
       "2020-03-03 14:34:03.744053982+00:00      1.583246e+09        9c71cd13   \n",
       "\n",
       "                                     private_seqNum  private_sndStamp  \n",
       "2020-03-03 14:34:02.130404894+00:00          186757      1.583246e+09  \n",
       "2020-03-03 14:34:02.194133470+00:00          186776      1.583246e+09  \n",
       "2020-03-03 14:34:03.449071566+00:00          187014      1.583246e+09  \n",
       "2020-03-03 14:34:03.622588346+00:00          187043      1.583246e+09  \n",
       "2020-03-03 14:34:03.744053982+00:00          187064      1.583246e+09  "
      ]
     },
     "execution_count": 6,
     "metadata": {},
     "output_type": "execute_result"
    }
   ],
   "source": [
    "#known bug, M2 sends utc everywhere.\n",
    "df = await client.select_time_series('lsst.sal.MTM2.logevent_m2AssemblyInPosition', '*', \n",
    "                                     (start-timedelta(seconds=37)).tai, (end-timedelta(seconds=37)).tai, csc_index)\n",
    "df.head()"
   ]
  },
  {
   "cell_type": "code",
   "execution_count": 7,
   "metadata": {},
   "outputs": [
    {
     "data": {
      "text/plain": [
       "96600"
      ]
     },
     "execution_count": 7,
     "metadata": {},
     "output_type": "execute_result"
    }
   ],
   "source": [
    "len(df)"
   ]
  },
  {
   "cell_type": "code",
   "execution_count": 12,
   "metadata": {},
   "outputs": [
    {
     "data": {
      "text/plain": [
       "48307"
      ]
     },
     "execution_count": 12,
     "metadata": {},
     "output_type": "execute_result"
    }
   ],
   "source": [
    "np.sum(df.inPosition)"
   ]
  },
  {
   "cell_type": "code",
   "execution_count": 14,
   "metadata": {},
   "outputs": [
    {
     "data": {
      "text/plain": [
       "48293"
      ]
     },
     "execution_count": 14,
     "metadata": {},
     "output_type": "execute_result"
    }
   ],
   "source": [
    "np.sum(df.inPosition == False)"
   ]
  },
  {
   "cell_type": "code",
   "execution_count": 15,
   "metadata": {},
   "outputs": [
    {
     "data": {
      "text/html": [
       "<div>\n",
       "<style scoped>\n",
       "    .dataframe tbody tr th:only-of-type {\n",
       "        vertical-align: middle;\n",
       "    }\n",
       "\n",
       "    .dataframe tbody tr th {\n",
       "        vertical-align: top;\n",
       "    }\n",
       "\n",
       "    .dataframe thead th {\n",
       "        text-align: right;\n",
       "    }\n",
       "</style>\n",
       "<table border=\"1\" class=\"dataframe\">\n",
       "  <thead>\n",
       "    <tr style=\"text-align: right;\">\n",
       "      <th></th>\n",
       "      <th>errorCode</th>\n",
       "      <th>errorReport</th>\n",
       "      <th>priority</th>\n",
       "      <th>private_host</th>\n",
       "      <th>private_kafkaStamp</th>\n",
       "      <th>private_origin</th>\n",
       "      <th>private_rcvStamp</th>\n",
       "      <th>private_revCode</th>\n",
       "      <th>private_seqNum</th>\n",
       "      <th>private_sndStamp</th>\n",
       "      <th>traceback</th>\n",
       "    </tr>\n",
       "  </thead>\n",
       "  <tbody>\n",
       "    <tr>\n",
       "      <th>2020-03-02 12:52:46.642428071+00:00</th>\n",
       "      <td>1</td>\n",
       "      <td>test</td>\n",
       "      <td>1</td>\n",
       "      <td>1</td>\n",
       "      <td>1.583154e+09</td>\n",
       "      <td>145461</td>\n",
       "      <td>1.583154e+09</td>\n",
       "      <td>43371e9b</td>\n",
       "      <td>0</td>\n",
       "      <td>1.583154e+09</td>\n",
       "      <td>test</td>\n",
       "    </tr>\n",
       "    <tr>\n",
       "      <th>2020-03-02 12:52:57.683718563+00:00</th>\n",
       "      <td>1</td>\n",
       "      <td>test</td>\n",
       "      <td>1</td>\n",
       "      <td>1</td>\n",
       "      <td>1.583154e+09</td>\n",
       "      <td>145514</td>\n",
       "      <td>1.583154e+09</td>\n",
       "      <td>43371e9b</td>\n",
       "      <td>0</td>\n",
       "      <td>1.583154e+09</td>\n",
       "      <td>test</td>\n",
       "    </tr>\n",
       "    <tr>\n",
       "      <th>2020-03-02 13:20:08.472415999+00:00</th>\n",
       "      <td>6071</td>\n",
       "      <td>Single Breaker Trip</td>\n",
       "      <td>0</td>\n",
       "      <td>1</td>\n",
       "      <td>1.583155e+09</td>\n",
       "      <td>146843</td>\n",
       "      <td>1.583155e+09</td>\n",
       "      <td>43371e9b</td>\n",
       "      <td>3</td>\n",
       "      <td>1.583155e+09</td>\n",
       "      <td></td>\n",
       "    </tr>\n",
       "    <tr>\n",
       "      <th>2020-03-02 13:20:08.477742708+00:00</th>\n",
       "      <td>0</td>\n",
       "      <td>Unknown reason why the error code data structu...</td>\n",
       "      <td>0</td>\n",
       "      <td>1</td>\n",
       "      <td>1.583155e+09</td>\n",
       "      <td>146843</td>\n",
       "      <td>1.583155e+09</td>\n",
       "      <td>43371e9b</td>\n",
       "      <td>4</td>\n",
       "      <td>1.583155e+09</td>\n",
       "      <td></td>\n",
       "    </tr>\n",
       "    <tr>\n",
       "      <th>2020-03-02 13:20:08.477756185+00:00</th>\n",
       "      <td>0</td>\n",
       "      <td>Unknown reason why the error code data structu...</td>\n",
       "      <td>0</td>\n",
       "      <td>1</td>\n",
       "      <td>1.583155e+09</td>\n",
       "      <td>146843</td>\n",
       "      <td>1.583155e+09</td>\n",
       "      <td>43371e9b</td>\n",
       "      <td>5</td>\n",
       "      <td>1.583155e+09</td>\n",
       "      <td></td>\n",
       "    </tr>\n",
       "  </tbody>\n",
       "</table>\n",
       "</div>"
      ],
      "text/plain": [
       "                                     errorCode  \\\n",
       "2020-03-02 12:52:46.642428071+00:00          1   \n",
       "2020-03-02 12:52:57.683718563+00:00          1   \n",
       "2020-03-02 13:20:08.472415999+00:00       6071   \n",
       "2020-03-02 13:20:08.477742708+00:00          0   \n",
       "2020-03-02 13:20:08.477756185+00:00          0   \n",
       "\n",
       "                                                                           errorReport  \\\n",
       "2020-03-02 12:52:46.642428071+00:00                                               test   \n",
       "2020-03-02 12:52:57.683718563+00:00                                               test   \n",
       "2020-03-02 13:20:08.472415999+00:00                                Single Breaker Trip   \n",
       "2020-03-02 13:20:08.477742708+00:00  Unknown reason why the error code data structu...   \n",
       "2020-03-02 13:20:08.477756185+00:00  Unknown reason why the error code data structu...   \n",
       "\n",
       "                                     priority  private_host  \\\n",
       "2020-03-02 12:52:46.642428071+00:00         1             1   \n",
       "2020-03-02 12:52:57.683718563+00:00         1             1   \n",
       "2020-03-02 13:20:08.472415999+00:00         0             1   \n",
       "2020-03-02 13:20:08.477742708+00:00         0             1   \n",
       "2020-03-02 13:20:08.477756185+00:00         0             1   \n",
       "\n",
       "                                     private_kafkaStamp  private_origin  \\\n",
       "2020-03-02 12:52:46.642428071+00:00        1.583154e+09          145461   \n",
       "2020-03-02 12:52:57.683718563+00:00        1.583154e+09          145514   \n",
       "2020-03-02 13:20:08.472415999+00:00        1.583155e+09          146843   \n",
       "2020-03-02 13:20:08.477742708+00:00        1.583155e+09          146843   \n",
       "2020-03-02 13:20:08.477756185+00:00        1.583155e+09          146843   \n",
       "\n",
       "                                     private_rcvStamp private_revCode  \\\n",
       "2020-03-02 12:52:46.642428071+00:00      1.583154e+09        43371e9b   \n",
       "2020-03-02 12:52:57.683718563+00:00      1.583154e+09        43371e9b   \n",
       "2020-03-02 13:20:08.472415999+00:00      1.583155e+09        43371e9b   \n",
       "2020-03-02 13:20:08.477742708+00:00      1.583155e+09        43371e9b   \n",
       "2020-03-02 13:20:08.477756185+00:00      1.583155e+09        43371e9b   \n",
       "\n",
       "                                     private_seqNum  private_sndStamp  \\\n",
       "2020-03-02 12:52:46.642428071+00:00               0      1.583154e+09   \n",
       "2020-03-02 12:52:57.683718563+00:00               0      1.583154e+09   \n",
       "2020-03-02 13:20:08.472415999+00:00               3      1.583155e+09   \n",
       "2020-03-02 13:20:08.477742708+00:00               4      1.583155e+09   \n",
       "2020-03-02 13:20:08.477756185+00:00               5      1.583155e+09   \n",
       "\n",
       "                                    traceback  \n",
       "2020-03-02 12:52:46.642428071+00:00      test  \n",
       "2020-03-02 12:52:57.683718563+00:00      test  \n",
       "2020-03-02 13:20:08.472415999+00:00            \n",
       "2020-03-02 13:20:08.477742708+00:00            \n",
       "2020-03-02 13:20:08.477756185+00:00            "
      ]
     },
     "execution_count": 15,
     "metadata": {},
     "output_type": "execute_result"
    }
   ],
   "source": [
    "#known bug, M2 sends utc everywhere.\n",
    "df = await client.select_time_series('lsst.sal.MTM2.logevent_errorCode', '*', \n",
    "                                     (start-timedelta(seconds=37)).tai, (end-timedelta(seconds=37)).tai, csc_index)\n",
    "df.head()"
   ]
  },
  {
   "cell_type": "code",
   "execution_count": 18,
   "metadata": {},
   "outputs": [
    {
     "data": {
      "text/plain": [
       "array([   0,    1, 6051, 6052, 6054, 6055, 6056, 6057, 6067, 6071, 6075,\n",
       "       6083, 6084, 6088])"
      ]
     },
     "execution_count": 18,
     "metadata": {},
     "output_type": "execute_result"
    }
   ],
   "source": [
    "np.unique(df.errorCode)"
   ]
  },
  {
   "cell_type": "code",
   "execution_count": 38,
   "metadata": {},
   "outputs": [
    {
     "name": "stdout",
     "output_type": "stream",
     "text": [
      "   0, 1st occurred: Mar-02 13:20, Unknown reason why the error code data structure has not been initialized.\n",
      "   1, 1st occurred: Mar-02 12:52, test\n",
      "6051, 1st occurred: Mar-02 13:20, Actuator ILC Read Error\n",
      "6052, 1st occurred: Mar-02 13:20, Monitoring ILC Read Error\n",
      "6054, 1st occurred: Mar-02 13:20, ILC State Transition Error\n",
      "6055, 1st occurred: Mar-05 17:48, Excessive Force Detected\n",
      "6056, 1st occurred: Mar-04 15:28, Actuator Limit Switch Triggered [Closed-loop]\n",
      "6057, 1st occurred: Mar-04 15:28, Actuator Limit Switch Triggered [Open-loop]\n",
      "6067, 1st occurred: Mar-02 13:20, Power Relay Opening Fault\n",
      "6071, 1st occurred: Mar-02 13:20, Single Breaker Trip\n",
      "6075, 1st occurred: Mar-03 23:11, Excessive Cell Temperature Differential\n",
      "6083, 1st occurred: Mar-05 18:12, Axial Actuator Encoder Out of Range\n",
      "6084, 1st occurred: Mar-05 18:31, Tangent Actuator Encoder Out of Range\n",
      "6088, 1st occurred: Mar-02 13:20, Tangent Load Cell Fault\n"
     ]
    }
   ],
   "source": [
    "aa = df.errorCode\n",
    "for i in np.unique(aa):\n",
    "    idx = np.argmax(aa==i)\n",
    "    print('%4d, 1st occurred: %s, %s'%(i, pd.to_datetime(df.private_sndStamp[idx], unit='s').strftime('%h-%d %H:%M'), \n",
    "                                       df.errorReport[idx]))"
   ]
  },
  {
   "cell_type": "code",
   "execution_count": 42,
   "metadata": {},
   "outputs": [
    {
     "data": {
      "text/html": [
       "<div>\n",
       "<style scoped>\n",
       "    .dataframe tbody tr th:only-of-type {\n",
       "        vertical-align: middle;\n",
       "    }\n",
       "\n",
       "    .dataframe tbody tr th {\n",
       "        vertical-align: top;\n",
       "    }\n",
       "\n",
       "    .dataframe thead th {\n",
       "        text-align: right;\n",
       "    }\n",
       "</style>\n",
       "<table border=\"1\" class=\"dataframe\">\n",
       "  <thead>\n",
       "    <tr style=\"text-align: right;\">\n",
       "      <th></th>\n",
       "      <th>appliedSettingsMatchStartIsTrue</th>\n",
       "      <th>priority</th>\n",
       "      <th>private_host</th>\n",
       "      <th>private_kafkaStamp</th>\n",
       "      <th>private_origin</th>\n",
       "      <th>private_rcvStamp</th>\n",
       "      <th>private_revCode</th>\n",
       "      <th>private_seqNum</th>\n",
       "      <th>private_sndStamp</th>\n",
       "    </tr>\n",
       "  </thead>\n",
       "  <tbody>\n",
       "    <tr>\n",
       "      <th>2020-03-02 13:20:07.100075560+00:00</th>\n",
       "      <td>True</td>\n",
       "      <td>0</td>\n",
       "      <td>1</td>\n",
       "      <td>1.583155e+09</td>\n",
       "      <td>146843</td>\n",
       "      <td>1.583155e+09</td>\n",
       "      <td>433782ac</td>\n",
       "      <td>2</td>\n",
       "      <td>1.583155e+09</td>\n",
       "    </tr>\n",
       "    <tr>\n",
       "      <th>2020-03-02 14:00:58.354721598+00:00</th>\n",
       "      <td>True</td>\n",
       "      <td>0</td>\n",
       "      <td>1</td>\n",
       "      <td>1.583158e+09</td>\n",
       "      <td>1487</td>\n",
       "      <td>1.583158e+09</td>\n",
       "      <td>433782ac</td>\n",
       "      <td>2</td>\n",
       "      <td>1.583158e+09</td>\n",
       "    </tr>\n",
       "    <tr>\n",
       "      <th>2020-03-02 18:12:50.405706082+00:00</th>\n",
       "      <td>True</td>\n",
       "      <td>0</td>\n",
       "      <td>1</td>\n",
       "      <td>1.583173e+09</td>\n",
       "      <td>11784</td>\n",
       "      <td>1.583173e+09</td>\n",
       "      <td>433782ac</td>\n",
       "      <td>2</td>\n",
       "      <td>1.583173e+09</td>\n",
       "    </tr>\n",
       "    <tr>\n",
       "      <th>2020-03-02 19:16:54.377304063+00:00</th>\n",
       "      <td>True</td>\n",
       "      <td>0</td>\n",
       "      <td>1</td>\n",
       "      <td>1.583177e+09</td>\n",
       "      <td>15960</td>\n",
       "      <td>1.583177e+09</td>\n",
       "      <td>433782ac</td>\n",
       "      <td>1</td>\n",
       "      <td>1.583177e+09</td>\n",
       "    </tr>\n",
       "    <tr>\n",
       "      <th>2020-03-03 14:16:56.756971053+00:00</th>\n",
       "      <td>True</td>\n",
       "      <td>0</td>\n",
       "      <td>1</td>\n",
       "      <td>1.583245e+09</td>\n",
       "      <td>56244</td>\n",
       "      <td>1.583245e+09</td>\n",
       "      <td>433782ac</td>\n",
       "      <td>1</td>\n",
       "      <td>1.583245e+09</td>\n",
       "    </tr>\n",
       "  </tbody>\n",
       "</table>\n",
       "</div>"
      ],
      "text/plain": [
       "                                     appliedSettingsMatchStartIsTrue  \\\n",
       "2020-03-02 13:20:07.100075560+00:00                             True   \n",
       "2020-03-02 14:00:58.354721598+00:00                             True   \n",
       "2020-03-02 18:12:50.405706082+00:00                             True   \n",
       "2020-03-02 19:16:54.377304063+00:00                             True   \n",
       "2020-03-03 14:16:56.756971053+00:00                             True   \n",
       "\n",
       "                                     priority  private_host  \\\n",
       "2020-03-02 13:20:07.100075560+00:00         0             1   \n",
       "2020-03-02 14:00:58.354721598+00:00         0             1   \n",
       "2020-03-02 18:12:50.405706082+00:00         0             1   \n",
       "2020-03-02 19:16:54.377304063+00:00         0             1   \n",
       "2020-03-03 14:16:56.756971053+00:00         0             1   \n",
       "\n",
       "                                     private_kafkaStamp  private_origin  \\\n",
       "2020-03-02 13:20:07.100075560+00:00        1.583155e+09          146843   \n",
       "2020-03-02 14:00:58.354721598+00:00        1.583158e+09            1487   \n",
       "2020-03-02 18:12:50.405706082+00:00        1.583173e+09           11784   \n",
       "2020-03-02 19:16:54.377304063+00:00        1.583177e+09           15960   \n",
       "2020-03-03 14:16:56.756971053+00:00        1.583245e+09           56244   \n",
       "\n",
       "                                     private_rcvStamp private_revCode  \\\n",
       "2020-03-02 13:20:07.100075560+00:00      1.583155e+09        433782ac   \n",
       "2020-03-02 14:00:58.354721598+00:00      1.583158e+09        433782ac   \n",
       "2020-03-02 18:12:50.405706082+00:00      1.583173e+09        433782ac   \n",
       "2020-03-02 19:16:54.377304063+00:00      1.583177e+09        433782ac   \n",
       "2020-03-03 14:16:56.756971053+00:00      1.583245e+09        433782ac   \n",
       "\n",
       "                                     private_seqNum  private_sndStamp  \n",
       "2020-03-02 13:20:07.100075560+00:00               2      1.583155e+09  \n",
       "2020-03-02 14:00:58.354721598+00:00               2      1.583158e+09  \n",
       "2020-03-02 18:12:50.405706082+00:00               2      1.583173e+09  \n",
       "2020-03-02 19:16:54.377304063+00:00               1      1.583177e+09  \n",
       "2020-03-03 14:16:56.756971053+00:00               1      1.583245e+09  "
      ]
     },
     "execution_count": 42,
     "metadata": {},
     "output_type": "execute_result"
    }
   ],
   "source": [
    "#known bug, M2 sends utc everywhere.\n",
    "df = await client.select_time_series('lsst.sal.MTM2.logevent_appliedSettingsMatchStart', '*', \n",
    "                                     (start-timedelta(seconds=37)).tai, (end-timedelta(seconds=37)).tai, csc_index)\n",
    "df.head()"
   ]
  },
  {
   "cell_type": "code",
   "execution_count": 40,
   "metadata": {},
   "outputs": [
    {
     "data": {
      "text/plain": [
       "16"
      ]
     },
     "execution_count": 40,
     "metadata": {},
     "output_type": "execute_result"
    }
   ],
   "source": [
    "len(df)"
   ]
  },
  {
   "cell_type": "code",
   "execution_count": 43,
   "metadata": {},
   "outputs": [
    {
     "name": "stdout",
     "output_type": "stream",
     "text": [
      " 0, Mar-02 13:20, True\n",
      " 1, Mar-02 14:00, True\n",
      " 2, Mar-02 18:12, True\n",
      " 3, Mar-02 19:16, True\n",
      " 4, Mar-03 14:16, True\n",
      " 5, Mar-03 15:30, True\n",
      " 6, Mar-03 16:48, True\n",
      " 7, Mar-03 18:20, True\n",
      " 8, Mar-03 19:22, True\n",
      " 9, Mar-03 19:26, True\n",
      "10, Mar-03 20:02, True\n",
      "11, Mar-04 12:22, True\n",
      "12, Mar-04 14:42, True\n",
      "13, Mar-05 13:45, True\n",
      "14, Mar-06 12:49, True\n",
      "15, Mar-06 14:27, True\n"
     ]
    }
   ],
   "source": [
    "for i in range(len(df)):\n",
    "    print('%2d, %s, %s'%(i, pd.to_datetime(df.private_sndStamp[i], unit='s').strftime('%h-%d %H:%M'), \n",
    "                                       df.appliedSettingsMatchStartIsTrue[i]))"
   ]
  },
  {
   "cell_type": "code",
   "execution_count": null,
   "metadata": {},
   "outputs": [],
   "source": []
  }
 ],
 "metadata": {
  "kernelspec": {
   "display_name": "Python 3",
   "language": "python",
   "name": "python3"
  },
  "language_info": {
   "codemirror_mode": {
    "name": "ipython",
    "version": 3
   },
   "file_extension": ".py",
   "mimetype": "text/x-python",
   "name": "python",
   "nbconvert_exporter": "python",
   "pygments_lexer": "ipython3",
   "version": "3.7.4"
  }
 },
 "nbformat": 4,
 "nbformat_minor": 2
}
