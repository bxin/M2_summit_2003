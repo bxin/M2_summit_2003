{
 "cells": [
  {
   "cell_type": "code",
   "execution_count": 1,
   "metadata": {},
   "outputs": [],
   "source": [
    "from astropy.time import Time\n",
    "from datetime import timedelta\n",
    "from lsst_efd_client import EfdClient\n",
    "import pandas as pd\n",
    "import numpy as np\n",
    "\n",
    "import matplotlib.pyplot as plt\n",
    "from pandas.plotting import register_matplotlib_converters\n",
    "register_matplotlib_converters()"
   ]
  },
  {
   "cell_type": "code",
   "execution_count": 2,
   "metadata": {},
   "outputs": [],
   "source": [
    "client = EfdClient('summit_efd')\n",
    "csc_index = 1"
   ]
  },
  {
   "cell_type": "code",
   "execution_count": 3,
   "metadata": {},
   "outputs": [],
   "source": [
    "start = Time('2020-03-06T13:41:30') #this is UTC\n",
    "end = start+ timedelta(minutes = 5)\n",
    "#end = Time('2020-02-01T01:00:00')"
   ]
  },
  {
   "cell_type": "code",
   "execution_count": 4,
   "metadata": {},
   "outputs": [
    {
     "data": {
      "text/plain": [
       "<Time object: scale='tai' format='isot' value=2020-03-06T13:47:07.000>"
      ]
     },
     "execution_count": 4,
     "metadata": {},
     "output_type": "execute_result"
    }
   ],
   "source": [
    "end.tai"
   ]
  },
  {
   "cell_type": "code",
   "execution_count": 5,
   "metadata": {},
   "outputs": [
    {
     "data": {
      "text/html": [
       "<div>\n",
       "<style scoped>\n",
       "    .dataframe tbody tr th:only-of-type {\n",
       "        vertical-align: middle;\n",
       "    }\n",
       "\n",
       "    .dataframe tbody tr th {\n",
       "        vertical-align: top;\n",
       "    }\n",
       "\n",
       "    .dataframe thead th {\n",
       "        text-align: right;\n",
       "    }\n",
       "</style>\n",
       "<table border=\"1\" class=\"dataframe\">\n",
       "  <thead>\n",
       "    <tr style=\"text-align: right;\">\n",
       "      <th></th>\n",
       "      <th>axialForceMeasured0</th>\n",
       "      <th>axialForceMeasured1</th>\n",
       "      <th>axialForceMeasured10</th>\n",
       "      <th>axialForceMeasured11</th>\n",
       "      <th>axialForceMeasured12</th>\n",
       "      <th>axialForceMeasured13</th>\n",
       "      <th>axialForceMeasured14</th>\n",
       "      <th>axialForceMeasured15</th>\n",
       "      <th>axialForceMeasured16</th>\n",
       "      <th>axialForceMeasured17</th>\n",
       "      <th>...</th>\n",
       "      <th>axialForceMeasured71</th>\n",
       "      <th>axialForceMeasured8</th>\n",
       "      <th>axialForceMeasured9</th>\n",
       "      <th>private_host</th>\n",
       "      <th>private_kafkaStamp</th>\n",
       "      <th>private_origin</th>\n",
       "      <th>private_rcvStamp</th>\n",
       "      <th>private_revCode</th>\n",
       "      <th>private_seqNum</th>\n",
       "      <th>private_sndStamp</th>\n",
       "    </tr>\n",
       "  </thead>\n",
       "  <tbody>\n",
       "    <tr>\n",
       "      <th>2020-03-06 13:42:07.035000+00:00</th>\n",
       "      <td>186.338501</td>\n",
       "      <td>187.434341</td>\n",
       "      <td>188.646881</td>\n",
       "      <td>191.358124</td>\n",
       "      <td>187.333206</td>\n",
       "      <td>188.996811</td>\n",
       "      <td>187.668457</td>\n",
       "      <td>189.927292</td>\n",
       "      <td>190.476288</td>\n",
       "      <td>185.345657</td>\n",
       "      <td>...</td>\n",
       "      <td>251.735168</td>\n",
       "      <td>182.434357</td>\n",
       "      <td>182.764999</td>\n",
       "      <td>1</td>\n",
       "      <td>1.583502e+09</td>\n",
       "      <td>94205</td>\n",
       "      <td>1.583502e+09</td>\n",
       "      <td>f6f121a3</td>\n",
       "      <td>569373</td>\n",
       "      <td>1.583502e+09</td>\n",
       "    </tr>\n",
       "    <tr>\n",
       "      <th>2020-03-06 13:42:07.086000+00:00</th>\n",
       "      <td>186.137238</td>\n",
       "      <td>187.368271</td>\n",
       "      <td>188.682526</td>\n",
       "      <td>191.616333</td>\n",
       "      <td>187.465851</td>\n",
       "      <td>188.986664</td>\n",
       "      <td>187.617905</td>\n",
       "      <td>190.135834</td>\n",
       "      <td>190.689804</td>\n",
       "      <td>185.178802</td>\n",
       "      <td>...</td>\n",
       "      <td>251.725113</td>\n",
       "      <td>182.500626</td>\n",
       "      <td>182.988403</td>\n",
       "      <td>1</td>\n",
       "      <td>1.583502e+09</td>\n",
       "      <td>94205</td>\n",
       "      <td>1.583502e+09</td>\n",
       "      <td>f6f121a3</td>\n",
       "      <td>569382</td>\n",
       "      <td>1.583502e+09</td>\n",
       "    </tr>\n",
       "    <tr>\n",
       "      <th>2020-03-06 13:42:07.136000+00:00</th>\n",
       "      <td>186.137238</td>\n",
       "      <td>187.342865</td>\n",
       "      <td>188.692719</td>\n",
       "      <td>191.621384</td>\n",
       "      <td>187.491364</td>\n",
       "      <td>188.981598</td>\n",
       "      <td>187.643188</td>\n",
       "      <td>190.090057</td>\n",
       "      <td>190.801651</td>\n",
       "      <td>185.173752</td>\n",
       "      <td>...</td>\n",
       "      <td>251.750259</td>\n",
       "      <td>182.541397</td>\n",
       "      <td>183.120407</td>\n",
       "      <td>1</td>\n",
       "      <td>1.583502e+09</td>\n",
       "      <td>94205</td>\n",
       "      <td>1.583502e+09</td>\n",
       "      <td>f6f121a3</td>\n",
       "      <td>569392</td>\n",
       "      <td>1.583502e+09</td>\n",
       "    </tr>\n",
       "    <tr>\n",
       "      <th>2020-03-06 13:42:07.185000+00:00</th>\n",
       "      <td>186.263031</td>\n",
       "      <td>187.286972</td>\n",
       "      <td>188.921890</td>\n",
       "      <td>191.737823</td>\n",
       "      <td>187.476059</td>\n",
       "      <td>188.930878</td>\n",
       "      <td>187.481415</td>\n",
       "      <td>190.059540</td>\n",
       "      <td>190.766052</td>\n",
       "      <td>184.936111</td>\n",
       "      <td>...</td>\n",
       "      <td>251.815643</td>\n",
       "      <td>182.714722</td>\n",
       "      <td>183.287949</td>\n",
       "      <td>1</td>\n",
       "      <td>1.583502e+09</td>\n",
       "      <td>94205</td>\n",
       "      <td>1.583502e+09</td>\n",
       "      <td>f6f121a3</td>\n",
       "      <td>569403</td>\n",
       "      <td>1.583502e+09</td>\n",
       "    </tr>\n",
       "    <tr>\n",
       "      <th>2020-03-06 13:42:07.237000+00:00</th>\n",
       "      <td>186.388809</td>\n",
       "      <td>187.444504</td>\n",
       "      <td>189.069595</td>\n",
       "      <td>191.834015</td>\n",
       "      <td>187.241379</td>\n",
       "      <td>188.925812</td>\n",
       "      <td>187.461197</td>\n",
       "      <td>189.983246</td>\n",
       "      <td>190.786392</td>\n",
       "      <td>185.057465</td>\n",
       "      <td>...</td>\n",
       "      <td>251.644638</td>\n",
       "      <td>182.801392</td>\n",
       "      <td>183.485947</td>\n",
       "      <td>1</td>\n",
       "      <td>1.583502e+09</td>\n",
       "      <td>94205</td>\n",
       "      <td>1.583502e+09</td>\n",
       "      <td>f6f121a3</td>\n",
       "      <td>569412</td>\n",
       "      <td>1.583502e+09</td>\n",
       "    </tr>\n",
       "  </tbody>\n",
       "</table>\n",
       "<p>5 rows × 79 columns</p>\n",
       "</div>"
      ],
      "text/plain": [
       "                                  axialForceMeasured0  axialForceMeasured1  \\\n",
       "2020-03-06 13:42:07.035000+00:00           186.338501           187.434341   \n",
       "2020-03-06 13:42:07.086000+00:00           186.137238           187.368271   \n",
       "2020-03-06 13:42:07.136000+00:00           186.137238           187.342865   \n",
       "2020-03-06 13:42:07.185000+00:00           186.263031           187.286972   \n",
       "2020-03-06 13:42:07.237000+00:00           186.388809           187.444504   \n",
       "\n",
       "                                  axialForceMeasured10  axialForceMeasured11  \\\n",
       "2020-03-06 13:42:07.035000+00:00            188.646881            191.358124   \n",
       "2020-03-06 13:42:07.086000+00:00            188.682526            191.616333   \n",
       "2020-03-06 13:42:07.136000+00:00            188.692719            191.621384   \n",
       "2020-03-06 13:42:07.185000+00:00            188.921890            191.737823   \n",
       "2020-03-06 13:42:07.237000+00:00            189.069595            191.834015   \n",
       "\n",
       "                                  axialForceMeasured12  axialForceMeasured13  \\\n",
       "2020-03-06 13:42:07.035000+00:00            187.333206            188.996811   \n",
       "2020-03-06 13:42:07.086000+00:00            187.465851            188.986664   \n",
       "2020-03-06 13:42:07.136000+00:00            187.491364            188.981598   \n",
       "2020-03-06 13:42:07.185000+00:00            187.476059            188.930878   \n",
       "2020-03-06 13:42:07.237000+00:00            187.241379            188.925812   \n",
       "\n",
       "                                  axialForceMeasured14  axialForceMeasured15  \\\n",
       "2020-03-06 13:42:07.035000+00:00            187.668457            189.927292   \n",
       "2020-03-06 13:42:07.086000+00:00            187.617905            190.135834   \n",
       "2020-03-06 13:42:07.136000+00:00            187.643188            190.090057   \n",
       "2020-03-06 13:42:07.185000+00:00            187.481415            190.059540   \n",
       "2020-03-06 13:42:07.237000+00:00            187.461197            189.983246   \n",
       "\n",
       "                                  axialForceMeasured16  axialForceMeasured17  \\\n",
       "2020-03-06 13:42:07.035000+00:00            190.476288            185.345657   \n",
       "2020-03-06 13:42:07.086000+00:00            190.689804            185.178802   \n",
       "2020-03-06 13:42:07.136000+00:00            190.801651            185.173752   \n",
       "2020-03-06 13:42:07.185000+00:00            190.766052            184.936111   \n",
       "2020-03-06 13:42:07.237000+00:00            190.786392            185.057465   \n",
       "\n",
       "                                  ...  axialForceMeasured71  \\\n",
       "2020-03-06 13:42:07.035000+00:00  ...            251.735168   \n",
       "2020-03-06 13:42:07.086000+00:00  ...            251.725113   \n",
       "2020-03-06 13:42:07.136000+00:00  ...            251.750259   \n",
       "2020-03-06 13:42:07.185000+00:00  ...            251.815643   \n",
       "2020-03-06 13:42:07.237000+00:00  ...            251.644638   \n",
       "\n",
       "                                  axialForceMeasured8  axialForceMeasured9  \\\n",
       "2020-03-06 13:42:07.035000+00:00           182.434357           182.764999   \n",
       "2020-03-06 13:42:07.086000+00:00           182.500626           182.988403   \n",
       "2020-03-06 13:42:07.136000+00:00           182.541397           183.120407   \n",
       "2020-03-06 13:42:07.185000+00:00           182.714722           183.287949   \n",
       "2020-03-06 13:42:07.237000+00:00           182.801392           183.485947   \n",
       "\n",
       "                                  private_host  private_kafkaStamp  \\\n",
       "2020-03-06 13:42:07.035000+00:00             1        1.583502e+09   \n",
       "2020-03-06 13:42:07.086000+00:00             1        1.583502e+09   \n",
       "2020-03-06 13:42:07.136000+00:00             1        1.583502e+09   \n",
       "2020-03-06 13:42:07.185000+00:00             1        1.583502e+09   \n",
       "2020-03-06 13:42:07.237000+00:00             1        1.583502e+09   \n",
       "\n",
       "                                  private_origin  private_rcvStamp  \\\n",
       "2020-03-06 13:42:07.035000+00:00           94205      1.583502e+09   \n",
       "2020-03-06 13:42:07.086000+00:00           94205      1.583502e+09   \n",
       "2020-03-06 13:42:07.136000+00:00           94205      1.583502e+09   \n",
       "2020-03-06 13:42:07.185000+00:00           94205      1.583502e+09   \n",
       "2020-03-06 13:42:07.237000+00:00           94205      1.583502e+09   \n",
       "\n",
       "                                  private_revCode  private_seqNum  \\\n",
       "2020-03-06 13:42:07.035000+00:00         f6f121a3          569373   \n",
       "2020-03-06 13:42:07.086000+00:00         f6f121a3          569382   \n",
       "2020-03-06 13:42:07.136000+00:00         f6f121a3          569392   \n",
       "2020-03-06 13:42:07.185000+00:00         f6f121a3          569403   \n",
       "2020-03-06 13:42:07.237000+00:00         f6f121a3          569412   \n",
       "\n",
       "                                  private_sndStamp  \n",
       "2020-03-06 13:42:07.035000+00:00      1.583502e+09  \n",
       "2020-03-06 13:42:07.086000+00:00      1.583502e+09  \n",
       "2020-03-06 13:42:07.136000+00:00      1.583502e+09  \n",
       "2020-03-06 13:42:07.185000+00:00      1.583502e+09  \n",
       "2020-03-06 13:42:07.237000+00:00      1.583502e+09  \n",
       "\n",
       "[5 rows x 79 columns]"
      ]
     },
     "execution_count": 5,
     "metadata": {},
     "output_type": "execute_result"
    }
   ],
   "source": [
    "df = await client.select_time_series('lsst.sal.MTM2.axialForcesMeasured', '*', start.tai, end.tai, csc_index)\n",
    "df.head()"
   ]
  },
  {
   "cell_type": "code",
   "execution_count": 6,
   "metadata": {},
   "outputs": [
    {
     "data": {
      "text/plain": [
       "6000"
      ]
     },
     "execution_count": 6,
     "metadata": {},
     "output_type": "execute_result"
    }
   ],
   "source": [
    "len(df)"
   ]
  },
  {
   "cell_type": "code",
   "execution_count": 7,
   "metadata": {},
   "outputs": [
    {
     "data": {
      "image/png": "[encoded data removed]",
      "text/plain": [
       "<Figure size 1296x360 with 1 Axes>"
      ]
     },
     "metadata": {
      "needs_background": "light"
     },
     "output_type": "display_data"
    }
   ],
   "source": [
    "ti = 10 # 1 second\n",
    "ni = ti*20\n",
    "aa =np.array(df['axialForceMeasured0'])\n",
    "si = np.where(aa==max(aa))[0][0]-10\n",
    "fig, ax = plt.subplots(1,1, figsize=(18,5))\n",
    "plt.plot(pd.to_datetime(df['private_sndStamp'][si:si+ni], unit='s'), df['axialForceMeasured0'][si:si+ni],'-ro')\n",
    "plt.xticks(rotation=45);\n",
    "plt.grid()"
   ]
  },
  {
   "cell_type": "code",
   "execution_count": 33,
   "metadata": {},
   "outputs": [
    {
     "data": {
      "text/plain": [
       "507"
      ]
     },
     "execution_count": 33,
     "metadata": {},
     "output_type": "execute_result"
    }
   ],
   "source": []
  },
  {
   "cell_type": "code",
   "execution_count": null,
   "metadata": {},
   "outputs": [],
   "source": []
  }
 ],
 "metadata": {
  "kernelspec": {
   "display_name": "Python 3",
   "language": "python",
   "name": "python3"
  },
  "language_info": {
   "codemirror_mode": {
    "name": "ipython",
    "version": 3
   },
   "file_extension": ".py",
   "mimetype": "text/x-python",
   "name": "python",
   "nbconvert_exporter": "python",
   "pygments_lexer": "ipython3",
   "version": "3.7.4"
  }
 },
 "nbformat": 4,
 "nbformat_minor": 2
}
